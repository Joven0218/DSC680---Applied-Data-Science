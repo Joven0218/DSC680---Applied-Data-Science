{
 "cells": [
  {
   "cell_type": "code",
   "execution_count": 42,
   "id": "fb150dce",
   "metadata": {},
   "outputs": [],
   "source": [
    "import pandas as pd \n",
    "import numpy as np \n",
    "import seaborn as sns\n",
    "import matplotlib.pyplot as plt\n",
    "%matplotlib inline\n",
    "import warnings\n",
    "warnings.filterwarnings('ignore')"
   ]
  },
  {
   "cell_type": "code",
   "execution_count": 43,
   "id": "7cf961bd",
   "metadata": {},
   "outputs": [
    {
     "data": {
      "text/html": [
       "<div>\n",
       "<style scoped>\n",
       "    .dataframe tbody tr th:only-of-type {\n",
       "        vertical-align: middle;\n",
       "    }\n",
       "\n",
       "    .dataframe tbody tr th {\n",
       "        vertical-align: top;\n",
       "    }\n",
       "\n",
       "    .dataframe thead th {\n",
       "        text-align: right;\n",
       "    }\n",
       "</style>\n",
       "<table border=\"1\" class=\"dataframe\">\n",
       "  <thead>\n",
       "    <tr style=\"text-align: right;\">\n",
       "      <th></th>\n",
       "      <th>CertificateNumber</th>\n",
       "      <th>WarrantyEnrollmentAppID</th>\n",
       "      <th>ClosingDate</th>\n",
       "      <th>ActivatedAt</th>\n",
       "      <th>FormattedPurchasePrice</th>\n",
       "      <th>BuilderNumber</th>\n",
       "      <th>Company Name</th>\n",
       "      <th>BuilderApprovalDate</th>\n",
       "      <th>StateId</th>\n",
       "      <th>ZipCode</th>\n",
       "      <th>County</th>\n",
       "      <th>ProductSegment</th>\n",
       "      <th>Premium</th>\n",
       "    </tr>\n",
       "  </thead>\n",
       "  <tbody>\n",
       "    <tr>\n",
       "      <th>0</th>\n",
       "      <td>W10657342</td>\n",
       "      <td>657342</td>\n",
       "      <td>2023-06-02 05:00:00</td>\n",
       "      <td>2024-02-28 15:27:10.735</td>\n",
       "      <td>1600000.00</td>\n",
       "      <td>23093</td>\n",
       "      <td>11/11 Developers LLC</td>\n",
       "      <td>2023-03-30</td>\n",
       "      <td>TX</td>\n",
       "      <td>75229</td>\n",
       "      <td>Dallas</td>\n",
       "      <td>Core</td>\n",
       "      <td>5200</td>\n",
       "    </tr>\n",
       "    <tr>\n",
       "      <th>1</th>\n",
       "      <td>1113400</td>\n",
       "      <td>685163</td>\n",
       "      <td>2023-03-27 00:00:00</td>\n",
       "      <td>2023-05-30 00:00:00.000</td>\n",
       "      <td>1450000.00</td>\n",
       "      <td>23093</td>\n",
       "      <td>11/11 Developers LLC</td>\n",
       "      <td>2023-03-30</td>\n",
       "      <td>TX</td>\n",
       "      <td>75229</td>\n",
       "      <td>Dallas</td>\n",
       "      <td>Classic</td>\n",
       "      <td>5655</td>\n",
       "    </tr>\n",
       "    <tr>\n",
       "      <th>2</th>\n",
       "      <td>W10701958</td>\n",
       "      <td>701958</td>\n",
       "      <td>2024-02-27 06:00:00</td>\n",
       "      <td>2024-03-14 21:09:02.635</td>\n",
       "      <td>1555000.00</td>\n",
       "      <td>23093</td>\n",
       "      <td>11/11 Developers LLC</td>\n",
       "      <td>2023-03-30</td>\n",
       "      <td>TX</td>\n",
       "      <td>75229</td>\n",
       "      <td>Dallas</td>\n",
       "      <td>Core</td>\n",
       "      <td>5054</td>\n",
       "    </tr>\n",
       "    <tr>\n",
       "      <th>3</th>\n",
       "      <td>1104252</td>\n",
       "      <td>674932</td>\n",
       "      <td>2022-12-09 00:00:00</td>\n",
       "      <td>2023-01-09 00:00:00.000</td>\n",
       "      <td>345000.00</td>\n",
       "      <td>22253</td>\n",
       "      <td>11/11 Developers LLC</td>\n",
       "      <td>2022-10-31</td>\n",
       "      <td>TX</td>\n",
       "      <td>78602</td>\n",
       "      <td>Bastrop</td>\n",
       "      <td>Classic</td>\n",
       "      <td>1121</td>\n",
       "    </tr>\n",
       "    <tr>\n",
       "      <th>4</th>\n",
       "      <td>W10701820</td>\n",
       "      <td>701820</td>\n",
       "      <td>2024-02-28 06:00:00</td>\n",
       "      <td>2024-03-21 14:05:14.343</td>\n",
       "      <td>367000.00</td>\n",
       "      <td>22253</td>\n",
       "      <td>11/11 Developers LLC</td>\n",
       "      <td>2022-10-31</td>\n",
       "      <td>TX</td>\n",
       "      <td>78602</td>\n",
       "      <td>Bastrop</td>\n",
       "      <td>Core</td>\n",
       "      <td>1193</td>\n",
       "    </tr>\n",
       "    <tr>\n",
       "      <th>5</th>\n",
       "      <td>1094094</td>\n",
       "      <td>313666</td>\n",
       "      <td>2022-05-15 00:00:00</td>\n",
       "      <td>2022-09-21 00:00:00.000</td>\n",
       "      <td>310063.00</td>\n",
       "      <td>7627</td>\n",
       "      <td>First Choice Home Builders</td>\n",
       "      <td>2007-08-28</td>\n",
       "      <td>OH</td>\n",
       "      <td>45601</td>\n",
       "      <td>Ross</td>\n",
       "      <td>Classic</td>\n",
       "      <td>620</td>\n",
       "    </tr>\n",
       "    <tr>\n",
       "      <th>6</th>\n",
       "      <td>1103435</td>\n",
       "      <td>313668</td>\n",
       "      <td>2022-09-12 00:00:00</td>\n",
       "      <td>2022-12-28 00:00:00.000</td>\n",
       "      <td>224817.00</td>\n",
       "      <td>7627</td>\n",
       "      <td>First Choice Home Builders</td>\n",
       "      <td>2007-08-28</td>\n",
       "      <td>OH</td>\n",
       "      <td>43107</td>\n",
       "      <td>Fairfield</td>\n",
       "      <td>Classic</td>\n",
       "      <td>450</td>\n",
       "    </tr>\n",
       "    <tr>\n",
       "      <th>7</th>\n",
       "      <td>1098826</td>\n",
       "      <td>426337</td>\n",
       "      <td>2022-07-29 00:00:00</td>\n",
       "      <td>2022-11-07 00:00:00.000</td>\n",
       "      <td>217785.00</td>\n",
       "      <td>7627</td>\n",
       "      <td>First Choice Home Builders</td>\n",
       "      <td>2007-08-28</td>\n",
       "      <td>OH</td>\n",
       "      <td>45644</td>\n",
       "      <td>Ross</td>\n",
       "      <td>Classic</td>\n",
       "      <td>436</td>\n",
       "    </tr>\n",
       "    <tr>\n",
       "      <th>8</th>\n",
       "      <td>1094291</td>\n",
       "      <td>448835</td>\n",
       "      <td>2022-05-15 00:00:00</td>\n",
       "      <td>2022-09-21 00:00:00.000</td>\n",
       "      <td>666580.00</td>\n",
       "      <td>7627</td>\n",
       "      <td>First Choice Home Builders</td>\n",
       "      <td>2007-08-28</td>\n",
       "      <td>OH</td>\n",
       "      <td>43138</td>\n",
       "      <td>Hocking</td>\n",
       "      <td>Classic</td>\n",
       "      <td>1333</td>\n",
       "    </tr>\n",
       "    <tr>\n",
       "      <th>9</th>\n",
       "      <td>1098808</td>\n",
       "      <td>458452</td>\n",
       "      <td>2022-07-15 00:00:00</td>\n",
       "      <td>2022-11-07 00:00:00.000</td>\n",
       "      <td>375569.75</td>\n",
       "      <td>7627</td>\n",
       "      <td>First Choice Home Builders</td>\n",
       "      <td>2007-08-28</td>\n",
       "      <td>OH</td>\n",
       "      <td>45644</td>\n",
       "      <td>Ross</td>\n",
       "      <td>Classic</td>\n",
       "      <td>751</td>\n",
       "    </tr>\n",
       "  </tbody>\n",
       "</table>\n",
       "</div>"
      ],
      "text/plain": [
       "  CertificateNumber  WarrantyEnrollmentAppID         ClosingDate  \\\n",
       "0         W10657342                   657342 2023-06-02 05:00:00   \n",
       "1           1113400                   685163 2023-03-27 00:00:00   \n",
       "2         W10701958                   701958 2024-02-27 06:00:00   \n",
       "3           1104252                   674932 2022-12-09 00:00:00   \n",
       "4         W10701820                   701820 2024-02-28 06:00:00   \n",
       "5           1094094                   313666 2022-05-15 00:00:00   \n",
       "6           1103435                   313668 2022-09-12 00:00:00   \n",
       "7           1098826                   426337 2022-07-29 00:00:00   \n",
       "8           1094291                   448835 2022-05-15 00:00:00   \n",
       "9           1098808                   458452 2022-07-15 00:00:00   \n",
       "\n",
       "              ActivatedAt  FormattedPurchasePrice  BuilderNumber  \\\n",
       "0 2024-02-28 15:27:10.735              1600000.00          23093   \n",
       "1 2023-05-30 00:00:00.000              1450000.00          23093   \n",
       "2 2024-03-14 21:09:02.635              1555000.00          23093   \n",
       "3 2023-01-09 00:00:00.000               345000.00          22253   \n",
       "4 2024-03-21 14:05:14.343               367000.00          22253   \n",
       "5 2022-09-21 00:00:00.000               310063.00           7627   \n",
       "6 2022-12-28 00:00:00.000               224817.00           7627   \n",
       "7 2022-11-07 00:00:00.000               217785.00           7627   \n",
       "8 2022-09-21 00:00:00.000               666580.00           7627   \n",
       "9 2022-11-07 00:00:00.000               375569.75           7627   \n",
       "\n",
       "                 Company Name BuilderApprovalDate StateId ZipCode     County  \\\n",
       "0        11/11 Developers LLC          2023-03-30      TX   75229    Dallas    \n",
       "1        11/11 Developers LLC          2023-03-30      TX   75229     Dallas   \n",
       "2        11/11 Developers LLC          2023-03-30      TX   75229     Dallas   \n",
       "3        11/11 Developers LLC          2022-10-31      TX   78602    Bastrop   \n",
       "4        11/11 Developers LLC          2022-10-31      TX   78602    Bastrop   \n",
       "5  First Choice Home Builders          2007-08-28      OH   45601       Ross   \n",
       "6  First Choice Home Builders          2007-08-28      OH   43107  Fairfield   \n",
       "7  First Choice Home Builders          2007-08-28      OH   45644       Ross   \n",
       "8  First Choice Home Builders          2007-08-28      OH   43138    Hocking   \n",
       "9  First Choice Home Builders          2007-08-28      OH   45644       Ross   \n",
       "\n",
       "  ProductSegment  Premium  \n",
       "0           Core     5200  \n",
       "1        Classic     5655  \n",
       "2           Core     5054  \n",
       "3        Classic     1121  \n",
       "4           Core     1193  \n",
       "5        Classic      620  \n",
       "6        Classic      450  \n",
       "7        Classic      436  \n",
       "8        Classic     1333  \n",
       "9        Classic      751  "
      ]
     },
     "execution_count": 43,
     "metadata": {},
     "output_type": "execute_result"
    }
   ],
   "source": [
    "# Loading the certificate summary data set and viewing top 10 rows of dataframe \n",
    "\n",
    "df_cert = pd.read_excel(r'C:\\Users\\mdyoung\\OneDrive - Bankers Financial Corporation\\Desktop\\Bellevue\\DSC680_T301_2245_1 - Applied Data Science\\Weeks 1 - 4\\CertSummTBL.xlsx')\n",
    "df_cert.head(10)"
   ]
  },
  {
   "cell_type": "code",
   "execution_count": 44,
   "id": "77d61fd3",
   "metadata": {},
   "outputs": [
    {
     "name": "stdout",
     "output_type": "stream",
     "text": [
      "<class 'pandas.core.frame.DataFrame'>\n",
      "RangeIndex: 40191 entries, 0 to 40190\n",
      "Data columns (total 13 columns):\n",
      " #   Column                   Non-Null Count  Dtype         \n",
      "---  ------                   --------------  -----         \n",
      " 0   CertificateNumber        40191 non-null  object        \n",
      " 1   WarrantyEnrollmentAppID  40191 non-null  int64         \n",
      " 2   ClosingDate              39901 non-null  datetime64[ns]\n",
      " 3   ActivatedAt              40191 non-null  datetime64[ns]\n",
      " 4   FormattedPurchasePrice   40115 non-null  float64       \n",
      " 5   BuilderNumber            40191 non-null  int64         \n",
      " 6   Company Name             40191 non-null  object        \n",
      " 7   BuilderApprovalDate      40175 non-null  datetime64[ns]\n",
      " 8   StateId                  40191 non-null  object        \n",
      " 9   ZipCode                  40191 non-null  object        \n",
      " 10  County                   40185 non-null  object        \n",
      " 11  ProductSegment           40191 non-null  object        \n",
      " 12  Premium                  40191 non-null  int64         \n",
      "dtypes: datetime64[ns](3), float64(1), int64(3), object(6)\n",
      "memory usage: 4.0+ MB\n"
     ]
    }
   ],
   "source": [
    "# Viewing summary of certificate data\n",
    "\n",
    "df_cert.info()"
   ]
  },
  {
   "cell_type": "code",
   "execution_count": 45,
   "id": "66737f5e",
   "metadata": {},
   "outputs": [
    {
     "data": {
      "text/html": [
       "<div>\n",
       "<style scoped>\n",
       "    .dataframe tbody tr th:only-of-type {\n",
       "        vertical-align: middle;\n",
       "    }\n",
       "\n",
       "    .dataframe tbody tr th {\n",
       "        vertical-align: top;\n",
       "    }\n",
       "\n",
       "    .dataframe thead th {\n",
       "        text-align: right;\n",
       "    }\n",
       "</style>\n",
       "<table border=\"1\" class=\"dataframe\">\n",
       "  <thead>\n",
       "    <tr style=\"text-align: right;\">\n",
       "      <th></th>\n",
       "      <th>count</th>\n",
       "      <th>mean</th>\n",
       "      <th>min</th>\n",
       "      <th>25%</th>\n",
       "      <th>50%</th>\n",
       "      <th>75%</th>\n",
       "      <th>max</th>\n",
       "      <th>std</th>\n",
       "    </tr>\n",
       "  </thead>\n",
       "  <tbody>\n",
       "    <tr>\n",
       "      <th>WarrantyEnrollmentAppID</th>\n",
       "      <td>40191.0</td>\n",
       "      <td>631823.399592</td>\n",
       "      <td>305774.0</td>\n",
       "      <td>654932.5</td>\n",
       "      <td>679809.0</td>\n",
       "      <td>690461.5</td>\n",
       "      <td>706396.0</td>\n",
       "      <td>103170.935688</td>\n",
       "    </tr>\n",
       "    <tr>\n",
       "      <th>ClosingDate</th>\n",
       "      <td>39901</td>\n",
       "      <td>2023-05-07 18:09:41.038069248</td>\n",
       "      <td>2001-05-25 04:00:00</td>\n",
       "      <td>2022-12-21 00:00:00</td>\n",
       "      <td>2023-05-05 00:00:00</td>\n",
       "      <td>2023-09-15 04:00:00</td>\n",
       "      <td>2026-06-28 00:00:00</td>\n",
       "      <td>NaN</td>\n",
       "    </tr>\n",
       "    <tr>\n",
       "      <th>ActivatedAt</th>\n",
       "      <td>40191</td>\n",
       "      <td>2023-06-08 07:23:44.749024512</td>\n",
       "      <td>2022-09-06 00:00:00</td>\n",
       "      <td>2023-01-18 00:00:00</td>\n",
       "      <td>2023-05-31 00:00:00</td>\n",
       "      <td>2023-10-23 19:35:12.892499968</td>\n",
       "      <td>2024-03-22 21:31:29.272000</td>\n",
       "      <td>NaN</td>\n",
       "    </tr>\n",
       "    <tr>\n",
       "      <th>FormattedPurchasePrice</th>\n",
       "      <td>40115.0</td>\n",
       "      <td>476463.426457</td>\n",
       "      <td>0.0</td>\n",
       "      <td>327022.0</td>\n",
       "      <td>405000.0</td>\n",
       "      <td>539414.5</td>\n",
       "      <td>16518000.0</td>\n",
       "      <td>278596.323896</td>\n",
       "    </tr>\n",
       "    <tr>\n",
       "      <th>BuilderNumber</th>\n",
       "      <td>40191.0</td>\n",
       "      <td>51565899.184096</td>\n",
       "      <td>124.0</td>\n",
       "      <td>13104.0</td>\n",
       "      <td>16439.0</td>\n",
       "      <td>22086.0</td>\n",
       "      <td>230000018115.0</td>\n",
       "      <td>3441449294.095469</td>\n",
       "    </tr>\n",
       "    <tr>\n",
       "      <th>BuilderApprovalDate</th>\n",
       "      <td>40175</td>\n",
       "      <td>2011-11-30 23:53:45.797137664</td>\n",
       "      <td>1993-04-20 00:00:00</td>\n",
       "      <td>2008-02-20 00:00:00</td>\n",
       "      <td>2014-10-13 00:00:00</td>\n",
       "      <td>2018-03-05 00:00:00</td>\n",
       "      <td>2024-03-20 00:00:00</td>\n",
       "      <td>NaN</td>\n",
       "    </tr>\n",
       "    <tr>\n",
       "      <th>Premium</th>\n",
       "      <td>40191.0</td>\n",
       "      <td>540.616108</td>\n",
       "      <td>0.0</td>\n",
       "      <td>173.0</td>\n",
       "      <td>341.0</td>\n",
       "      <td>755.0</td>\n",
       "      <td>14350.0</td>\n",
       "      <td>619.101711</td>\n",
       "    </tr>\n",
       "  </tbody>\n",
       "</table>\n",
       "</div>"
      ],
      "text/plain": [
       "                           count                           mean  \\\n",
       "WarrantyEnrollmentAppID  40191.0                  631823.399592   \n",
       "ClosingDate                39901  2023-05-07 18:09:41.038069248   \n",
       "ActivatedAt                40191  2023-06-08 07:23:44.749024512   \n",
       "FormattedPurchasePrice   40115.0                  476463.426457   \n",
       "BuilderNumber            40191.0                51565899.184096   \n",
       "BuilderApprovalDate        40175  2011-11-30 23:53:45.797137664   \n",
       "Premium                  40191.0                     540.616108   \n",
       "\n",
       "                                         min                  25%  \\\n",
       "WarrantyEnrollmentAppID             305774.0             654932.5   \n",
       "ClosingDate              2001-05-25 04:00:00  2022-12-21 00:00:00   \n",
       "ActivatedAt              2022-09-06 00:00:00  2023-01-18 00:00:00   \n",
       "FormattedPurchasePrice                   0.0             327022.0   \n",
       "BuilderNumber                          124.0              13104.0   \n",
       "BuilderApprovalDate      1993-04-20 00:00:00  2008-02-20 00:00:00   \n",
       "Premium                                  0.0                173.0   \n",
       "\n",
       "                                         50%                            75%  \\\n",
       "WarrantyEnrollmentAppID             679809.0                       690461.5   \n",
       "ClosingDate              2023-05-05 00:00:00            2023-09-15 04:00:00   \n",
       "ActivatedAt              2023-05-31 00:00:00  2023-10-23 19:35:12.892499968   \n",
       "FormattedPurchasePrice              405000.0                       539414.5   \n",
       "BuilderNumber                        16439.0                        22086.0   \n",
       "BuilderApprovalDate      2014-10-13 00:00:00            2018-03-05 00:00:00   \n",
       "Premium                                341.0                          755.0   \n",
       "\n",
       "                                                max                std  \n",
       "WarrantyEnrollmentAppID                    706396.0      103170.935688  \n",
       "ClosingDate                     2026-06-28 00:00:00                NaN  \n",
       "ActivatedAt              2024-03-22 21:31:29.272000                NaN  \n",
       "FormattedPurchasePrice                   16518000.0      278596.323896  \n",
       "BuilderNumber                        230000018115.0  3441449294.095469  \n",
       "BuilderApprovalDate             2024-03-20 00:00:00                NaN  \n",
       "Premium                                     14350.0         619.101711  "
      ]
     },
     "execution_count": 45,
     "metadata": {},
     "output_type": "execute_result"
    }
   ],
   "source": [
    "# Viewing stat summary for certificate data\n",
    "\n",
    "df_cert.describe().T"
   ]
  },
  {
   "cell_type": "code",
   "execution_count": 46,
   "id": "e7ea6e29",
   "metadata": {},
   "outputs": [
    {
     "data": {
      "text/html": [
       "<div>\n",
       "<style scoped>\n",
       "    .dataframe tbody tr th:only-of-type {\n",
       "        vertical-align: middle;\n",
       "    }\n",
       "\n",
       "    .dataframe tbody tr th {\n",
       "        vertical-align: top;\n",
       "    }\n",
       "\n",
       "    .dataframe thead th {\n",
       "        text-align: right;\n",
       "    }\n",
       "</style>\n",
       "<table border=\"1\" class=\"dataframe\">\n",
       "  <thead>\n",
       "    <tr style=\"text-align: right;\">\n",
       "      <th></th>\n",
       "      <th>Company Name</th>\n",
       "      <th>Company Id</th>\n",
       "      <th>Year of Createdate</th>\n",
       "      <th>Month of Createdate</th>\n",
       "      <th>Pod</th>\n",
       "    </tr>\n",
       "  </thead>\n",
       "  <tbody>\n",
       "    <tr>\n",
       "      <th>0</th>\n",
       "      <td>Longo Homes INC</td>\n",
       "      <td>9505516456</td>\n",
       "      <td>2022</td>\n",
       "      <td>September</td>\n",
       "      <td>2</td>\n",
       "    </tr>\n",
       "    <tr>\n",
       "      <th>1</th>\n",
       "      <td>Heritage Crafted Homes - JBB Ventures, LLC</td>\n",
       "      <td>9507836967</td>\n",
       "      <td>2022</td>\n",
       "      <td>September</td>\n",
       "      <td>1</td>\n",
       "    </tr>\n",
       "    <tr>\n",
       "      <th>2</th>\n",
       "      <td>Hempstead Premier Homes</td>\n",
       "      <td>9512394395</td>\n",
       "      <td>2022</td>\n",
       "      <td>September</td>\n",
       "      <td>3</td>\n",
       "    </tr>\n",
       "    <tr>\n",
       "      <th>3</th>\n",
       "      <td>Extra Mile Properties LLC</td>\n",
       "      <td>9512480614</td>\n",
       "      <td>2022</td>\n",
       "      <td>September</td>\n",
       "      <td>4</td>\n",
       "    </tr>\n",
       "    <tr>\n",
       "      <th>4</th>\n",
       "      <td>Evolve Homebuilders LLC</td>\n",
       "      <td>9512578183</td>\n",
       "      <td>2022</td>\n",
       "      <td>September</td>\n",
       "      <td>4</td>\n",
       "    </tr>\n",
       "    <tr>\n",
       "      <th>5</th>\n",
       "      <td>Group 3 Builders</td>\n",
       "      <td>9513840902</td>\n",
       "      <td>2022</td>\n",
       "      <td>September</td>\n",
       "      <td>1</td>\n",
       "    </tr>\n",
       "    <tr>\n",
       "      <th>6</th>\n",
       "      <td>Gryphyn Custom Homes</td>\n",
       "      <td>9514062734</td>\n",
       "      <td>2022</td>\n",
       "      <td>September</td>\n",
       "      <td>1</td>\n",
       "    </tr>\n",
       "    <tr>\n",
       "      <th>7</th>\n",
       "      <td>Chambliss Homes Inc</td>\n",
       "      <td>9533992089</td>\n",
       "      <td>2022</td>\n",
       "      <td>September</td>\n",
       "      <td>2</td>\n",
       "    </tr>\n",
       "    <tr>\n",
       "      <th>8</th>\n",
       "      <td>Charlie Sanders Lumber &amp; Construction</td>\n",
       "      <td>9533992259</td>\n",
       "      <td>2022</td>\n",
       "      <td>September</td>\n",
       "      <td>2</td>\n",
       "    </tr>\n",
       "    <tr>\n",
       "      <th>9</th>\n",
       "      <td>Delta Traditions</td>\n",
       "      <td>9533992532</td>\n",
       "      <td>2022</td>\n",
       "      <td>September</td>\n",
       "      <td>2</td>\n",
       "    </tr>\n",
       "  </tbody>\n",
       "</table>\n",
       "</div>"
      ],
      "text/plain": [
       "                                 Company Name  Company Id  Year of Createdate  \\\n",
       "0                             Longo Homes INC  9505516456                2022   \n",
       "1  Heritage Crafted Homes - JBB Ventures, LLC  9507836967                2022   \n",
       "2                     Hempstead Premier Homes  9512394395                2022   \n",
       "3                   Extra Mile Properties LLC  9512480614                2022   \n",
       "4                     Evolve Homebuilders LLC  9512578183                2022   \n",
       "5                            Group 3 Builders  9513840902                2022   \n",
       "6                        Gryphyn Custom Homes  9514062734                2022   \n",
       "7                         Chambliss Homes Inc  9533992089                2022   \n",
       "8       Charlie Sanders Lumber & Construction  9533992259                2022   \n",
       "9                            Delta Traditions  9533992532                2022   \n",
       "\n",
       "  Month of Createdate  Pod  \n",
       "0           September    2  \n",
       "1           September    1  \n",
       "2           September    3  \n",
       "3           September    4  \n",
       "4           September    4  \n",
       "5           September    1  \n",
       "6           September    1  \n",
       "7           September    2  \n",
       "8           September    2  \n",
       "9           September    2  "
      ]
     },
     "execution_count": 46,
     "metadata": {},
     "output_type": "execute_result"
    }
   ],
   "source": [
    "# Loading the CRM data set and viewing dataframe. \n",
    "\n",
    "df_crm = pd.read_excel(r'C:\\Users\\mdyoung\\OneDrive - Bankers Financial Corporation\\Desktop\\Bellevue\\DSC680_T301_2245_1 - Applied Data Science\\Weeks 1 - 4\\HubSpot.xlsx')\n",
    "df_crm.head(10)"
   ]
  },
  {
   "cell_type": "code",
   "execution_count": 47,
   "id": "3d2f8ffb",
   "metadata": {},
   "outputs": [
    {
     "name": "stdout",
     "output_type": "stream",
     "text": [
      "<class 'pandas.core.frame.DataFrame'>\n",
      "RangeIndex: 3062 entries, 0 to 3061\n",
      "Data columns (total 5 columns):\n",
      " #   Column               Non-Null Count  Dtype \n",
      "---  ------               --------------  ----- \n",
      " 0   Company Name         2598 non-null   object\n",
      " 1   Company Id           3062 non-null   int64 \n",
      " 2   Year of Createdate   3062 non-null   int64 \n",
      " 3   Month of Createdate  3062 non-null   object\n",
      " 4   Pod                  3062 non-null   int64 \n",
      "dtypes: int64(3), object(2)\n",
      "memory usage: 119.7+ KB\n"
     ]
    }
   ],
   "source": [
    "# Viewing summary of crm data\n",
    "\n",
    "df_crm.info()"
   ]
  },
  {
   "cell_type": "code",
   "execution_count": 48,
   "id": "e227965b",
   "metadata": {},
   "outputs": [
    {
     "data": {
      "text/html": [
       "<div>\n",
       "<style scoped>\n",
       "    .dataframe tbody tr th:only-of-type {\n",
       "        vertical-align: middle;\n",
       "    }\n",
       "\n",
       "    .dataframe tbody tr th {\n",
       "        vertical-align: top;\n",
       "    }\n",
       "\n",
       "    .dataframe thead th {\n",
       "        text-align: right;\n",
       "    }\n",
       "</style>\n",
       "<table border=\"1\" class=\"dataframe\">\n",
       "  <thead>\n",
       "    <tr style=\"text-align: right;\">\n",
       "      <th></th>\n",
       "      <th>count</th>\n",
       "      <th>mean</th>\n",
       "      <th>std</th>\n",
       "      <th>min</th>\n",
       "      <th>25%</th>\n",
       "      <th>50%</th>\n",
       "      <th>75%</th>\n",
       "      <th>max</th>\n",
       "    </tr>\n",
       "  </thead>\n",
       "  <tbody>\n",
       "    <tr>\n",
       "      <th>Company Id</th>\n",
       "      <td>3062.0</td>\n",
       "      <td>1.494679e+10</td>\n",
       "      <td>3.000597e+09</td>\n",
       "      <td>9.505516e+09</td>\n",
       "      <td>1.234594e+10</td>\n",
       "      <td>1.574674e+10</td>\n",
       "      <td>1.752934e+10</td>\n",
       "      <td>1.856221e+10</td>\n",
       "    </tr>\n",
       "    <tr>\n",
       "      <th>Year of Createdate</th>\n",
       "      <td>3062.0</td>\n",
       "      <td>2.022816e+03</td>\n",
       "      <td>3.874388e-01</td>\n",
       "      <td>2.022000e+03</td>\n",
       "      <td>2.023000e+03</td>\n",
       "      <td>2.023000e+03</td>\n",
       "      <td>2.023000e+03</td>\n",
       "      <td>2.023000e+03</td>\n",
       "    </tr>\n",
       "    <tr>\n",
       "      <th>Pod</th>\n",
       "      <td>3062.0</td>\n",
       "      <td>2.661659e+00</td>\n",
       "      <td>8.956461e-01</td>\n",
       "      <td>1.000000e+00</td>\n",
       "      <td>2.000000e+00</td>\n",
       "      <td>2.000000e+00</td>\n",
       "      <td>3.000000e+00</td>\n",
       "      <td>4.000000e+00</td>\n",
       "    </tr>\n",
       "  </tbody>\n",
       "</table>\n",
       "</div>"
      ],
      "text/plain": [
       "                     count          mean           std           min  \\\n",
       "Company Id          3062.0  1.494679e+10  3.000597e+09  9.505516e+09   \n",
       "Year of Createdate  3062.0  2.022816e+03  3.874388e-01  2.022000e+03   \n",
       "Pod                 3062.0  2.661659e+00  8.956461e-01  1.000000e+00   \n",
       "\n",
       "                             25%           50%           75%           max  \n",
       "Company Id          1.234594e+10  1.574674e+10  1.752934e+10  1.856221e+10  \n",
       "Year of Createdate  2.023000e+03  2.023000e+03  2.023000e+03  2.023000e+03  \n",
       "Pod                 2.000000e+00  2.000000e+00  3.000000e+00  4.000000e+00  "
      ]
     },
     "execution_count": 48,
     "metadata": {},
     "output_type": "execute_result"
    }
   ],
   "source": [
    "# Viewing stat summary for crm data\n",
    "\n",
    "df_crm.describe().T"
   ]
  },
  {
   "cell_type": "code",
   "execution_count": 49,
   "id": "f183169f",
   "metadata": {},
   "outputs": [],
   "source": [
    "# Initial cleaning steps (e.g., dropping duplicates, handling missing values)\n",
    "df_cert.drop_duplicates(inplace=True)\n",
    "df_crm.drop_duplicates(inplace=True)"
   ]
  },
  {
   "cell_type": "code",
   "execution_count": 50,
   "id": "c58181c5",
   "metadata": {},
   "outputs": [
    {
     "data": {
      "text/plain": [
       "(40191, 13)"
      ]
     },
     "execution_count": 50,
     "metadata": {},
     "output_type": "execute_result"
    }
   ],
   "source": [
    "df_cert.shape"
   ]
  },
  {
   "cell_type": "code",
   "execution_count": 51,
   "id": "7e5929c0",
   "metadata": {},
   "outputs": [
    {
     "data": {
      "text/plain": [
       "(3062, 5)"
      ]
     },
     "execution_count": 51,
     "metadata": {},
     "output_type": "execute_result"
    }
   ],
   "source": [
    "df_crm.shape"
   ]
  },
  {
   "cell_type": "markdown",
   "id": "de4d597c",
   "metadata": {},
   "source": [
    "Both data frames remain the same after running the drop duplicates code.\n"
   ]
  },
  {
   "cell_type": "markdown",
   "id": "2f9bdf3a",
   "metadata": {},
   "source": [
    "First, we'll normalize the \"Company Name\" fields in both datasets to standardize their format. This involves converting to lowercase, removing extra spaces, and eliminating special characters."
   ]
  },
  {
   "cell_type": "code",
   "execution_count": 52,
   "id": "6a888c26",
   "metadata": {},
   "outputs": [],
   "source": [
    "import re\n",
    "\n",
    "# Updated normalization function\n",
    "def normalize_company_name(name):\n",
    "    # Convert any non-string input to string\n",
    "    name = str(name)\n",
    "    name = name.lower()  # Convert to lowercase\n",
    "    name = re.sub(r'\\s+', ' ', name)  # Replace multiple spaces with a single space\n",
    "    name = re.sub(r'[^\\w\\s]', '', name)  # Remove special characters\n",
    "    name = name.strip()  # Trim whitespace from the ends\n",
    "    # Handle the case where original name was NaN (converted to 'nan' by str())\n",
    "    if name == 'nan':\n",
    "        return None  # Return None or an empty string '' as appropriate\n",
    "    return name\n",
    "\n",
    "# Apply the normalization function to the \"Company Name\" columns in both datasets\n",
    "df_cert['Company Name'] = df_cert['Company Name'].apply(normalize_company_name)\n",
    "df_crm['Company Name'] = df_crm['Company Name'].apply(normalize_company_name)\n",
    "\n",
    "# Proceed with a direct merge/join\n",
    "merged_df = pd.merge(df_cert, df_crm, on='Company Name', how='inner')"
   ]
  },
  {
   "cell_type": "code",
   "execution_count": 53,
   "id": "ef9185b1",
   "metadata": {},
   "outputs": [
    {
     "data": {
      "text/plain": [
       "(3041, 17)"
      ]
     },
     "execution_count": 53,
     "metadata": {},
     "output_type": "execute_result"
    }
   ],
   "source": [
    "merged_df.shape"
   ]
  },
  {
   "cell_type": "markdown",
   "id": "3f80e5c3",
   "metadata": {},
   "source": [
    "The direct merge after normalization still leaves many unmatched records and I will proceed with fuzzy matching."
   ]
  },
  {
   "cell_type": "code",
   "execution_count": 54,
   "id": "f83ad8a2",
   "metadata": {},
   "outputs": [],
   "source": [
    "from fuzzywuzzy import process\n",
    "\n",
    "def fuzzy_merge(df_left, df_right, key_left, key_right, threshold=90, limit=2):\n",
    "    # Create a dictionary to hold the best matches\n",
    "    match_dict = {}\n",
    "    # Get a list of unique company names from the right DataFrame\n",
    "    right_names = df_right[key_right].unique()\n",
    "    \n",
    "    # For each unique name in the left DataFrame, find the best match in the right DataFrame\n",
    "    for name in df_left[key_left].unique():\n",
    "        matches = process.extract(name, right_names, limit=limit)\n",
    "        best_match = [match for match in matches if match[1] >= threshold]\n",
    "        if best_match:\n",
    "            match_dict[name] = best_match[0][0]\n",
    "    \n",
    "    # Map the matches based on the dictionary\n",
    "    df_left[f'{key_left}_matched'] = df_left[key_left].map(match_dict)\n",
    "    \n",
    "    # Perform the merge\n",
    "    return pd.merge(df_left, df_right, left_on=f'{key_left}_matched', right_on=key_right, how='left')\n",
    "\n",
    "# Apply fuzzy matching and merge\n",
    "merged_df_fuzzy = fuzzy_merge(df_cert, df_crm, 'Company Name', 'Company Name')"
   ]
  },
  {
   "cell_type": "code",
   "execution_count": 55,
   "id": "d8b8d9ca",
   "metadata": {},
   "outputs": [
    {
     "data": {
      "text/plain": [
       "(15413236, 19)"
      ]
     },
     "execution_count": 55,
     "metadata": {},
     "output_type": "execute_result"
    }
   ],
   "source": [
    "merged_df_fuzzy.shape"
   ]
  },
  {
   "cell_type": "markdown",
   "id": "5ca77fef",
   "metadata": {},
   "source": [
    "Removing Duplicates Based on a Subset of Columns\n",
    "\n",
    "Often, especially after fuzzy matching, you'll want to remove duplicates based on specific criteria. For example, you might consider a row a duplicate if the same Company Name from df_cert matches multiple entries in df_crm, and you only want to keep the match with the highest confidence score.\n",
    "\n",
    "First, sort the DataFrame based on some criteria, such as a match score or another metric indicating match quality. If you don't have a match score, you might sort by another relevant column. Assuming match_score indicates the confidence of each match:"
   ]
  },
  {
   "cell_type": "code",
   "execution_count": 56,
   "id": "22925587",
   "metadata": {},
   "outputs": [],
   "source": [
    "# Keeping the first occurrence of each CertificateNumber\n",
    "merged_df_fuzzy_unique = merged_df_fuzzy.drop_duplicates(subset=['CertificateNumber'], keep='first')"
   ]
  },
  {
   "cell_type": "code",
   "execution_count": 57,
   "id": "9a16d0e2",
   "metadata": {},
   "outputs": [
    {
     "data": {
      "text/plain": [
       "(40191, 19)"
      ]
     },
     "execution_count": 57,
     "metadata": {},
     "output_type": "execute_result"
    }
   ],
   "source": [
    "merged_df_fuzzy_unique.shape"
   ]
  },
  {
   "cell_type": "code",
   "execution_count": 58,
   "id": "1dff2a23",
   "metadata": {},
   "outputs": [
    {
     "data": {
      "text/html": [
       "<div>\n",
       "<style scoped>\n",
       "    .dataframe tbody tr th:only-of-type {\n",
       "        vertical-align: middle;\n",
       "    }\n",
       "\n",
       "    .dataframe tbody tr th {\n",
       "        vertical-align: top;\n",
       "    }\n",
       "\n",
       "    .dataframe thead th {\n",
       "        text-align: right;\n",
       "    }\n",
       "</style>\n",
       "<table border=\"1\" class=\"dataframe\">\n",
       "  <thead>\n",
       "    <tr style=\"text-align: right;\">\n",
       "      <th></th>\n",
       "      <th>CertificateNumber</th>\n",
       "      <th>WarrantyEnrollmentAppID</th>\n",
       "      <th>ClosingDate</th>\n",
       "      <th>ActivatedAt</th>\n",
       "      <th>FormattedPurchasePrice</th>\n",
       "      <th>BuilderNumber</th>\n",
       "      <th>Company Name_x</th>\n",
       "      <th>BuilderApprovalDate</th>\n",
       "      <th>StateId</th>\n",
       "      <th>ZipCode</th>\n",
       "      <th>County</th>\n",
       "      <th>ProductSegment</th>\n",
       "      <th>Premium</th>\n",
       "      <th>Company Name_matched</th>\n",
       "      <th>Company Name_y</th>\n",
       "      <th>Company Id</th>\n",
       "      <th>Year of Createdate</th>\n",
       "      <th>Month of Createdate</th>\n",
       "      <th>Pod</th>\n",
       "    </tr>\n",
       "  </thead>\n",
       "  <tbody>\n",
       "    <tr>\n",
       "      <th>0</th>\n",
       "      <td>W10657342</td>\n",
       "      <td>657342</td>\n",
       "      <td>2023-06-02 05:00:00</td>\n",
       "      <td>2024-02-28 15:27:10.735</td>\n",
       "      <td>1600000.00</td>\n",
       "      <td>23093</td>\n",
       "      <td>1111 developers llc</td>\n",
       "      <td>2023-03-30</td>\n",
       "      <td>TX</td>\n",
       "      <td>75229</td>\n",
       "      <td>Dallas</td>\n",
       "      <td>Core</td>\n",
       "      <td>5200</td>\n",
       "      <td>1111 developers llc</td>\n",
       "      <td>1111 developers llc</td>\n",
       "      <td>15306245198</td>\n",
       "      <td>2023</td>\n",
       "      <td>March</td>\n",
       "      <td>3</td>\n",
       "    </tr>\n",
       "    <tr>\n",
       "      <th>1</th>\n",
       "      <td>1113400</td>\n",
       "      <td>685163</td>\n",
       "      <td>2023-03-27 00:00:00</td>\n",
       "      <td>2023-05-30 00:00:00.000</td>\n",
       "      <td>1450000.00</td>\n",
       "      <td>23093</td>\n",
       "      <td>1111 developers llc</td>\n",
       "      <td>2023-03-30</td>\n",
       "      <td>TX</td>\n",
       "      <td>75229</td>\n",
       "      <td>Dallas</td>\n",
       "      <td>Classic</td>\n",
       "      <td>5655</td>\n",
       "      <td>1111 developers llc</td>\n",
       "      <td>1111 developers llc</td>\n",
       "      <td>15306245198</td>\n",
       "      <td>2023</td>\n",
       "      <td>March</td>\n",
       "      <td>3</td>\n",
       "    </tr>\n",
       "    <tr>\n",
       "      <th>2</th>\n",
       "      <td>W10701958</td>\n",
       "      <td>701958</td>\n",
       "      <td>2024-02-27 06:00:00</td>\n",
       "      <td>2024-03-14 21:09:02.635</td>\n",
       "      <td>1555000.00</td>\n",
       "      <td>23093</td>\n",
       "      <td>1111 developers llc</td>\n",
       "      <td>2023-03-30</td>\n",
       "      <td>TX</td>\n",
       "      <td>75229</td>\n",
       "      <td>Dallas</td>\n",
       "      <td>Core</td>\n",
       "      <td>5054</td>\n",
       "      <td>1111 developers llc</td>\n",
       "      <td>1111 developers llc</td>\n",
       "      <td>15306245198</td>\n",
       "      <td>2023</td>\n",
       "      <td>March</td>\n",
       "      <td>3</td>\n",
       "    </tr>\n",
       "    <tr>\n",
       "      <th>3</th>\n",
       "      <td>1104252</td>\n",
       "      <td>674932</td>\n",
       "      <td>2022-12-09 00:00:00</td>\n",
       "      <td>2023-01-09 00:00:00.000</td>\n",
       "      <td>345000.00</td>\n",
       "      <td>22253</td>\n",
       "      <td>1111 developers llc</td>\n",
       "      <td>2022-10-31</td>\n",
       "      <td>TX</td>\n",
       "      <td>78602</td>\n",
       "      <td>Bastrop</td>\n",
       "      <td>Classic</td>\n",
       "      <td>1121</td>\n",
       "      <td>1111 developers llc</td>\n",
       "      <td>1111 developers llc</td>\n",
       "      <td>15306245198</td>\n",
       "      <td>2023</td>\n",
       "      <td>March</td>\n",
       "      <td>3</td>\n",
       "    </tr>\n",
       "    <tr>\n",
       "      <th>4</th>\n",
       "      <td>W10701820</td>\n",
       "      <td>701820</td>\n",
       "      <td>2024-02-28 06:00:00</td>\n",
       "      <td>2024-03-21 14:05:14.343</td>\n",
       "      <td>367000.00</td>\n",
       "      <td>22253</td>\n",
       "      <td>1111 developers llc</td>\n",
       "      <td>2022-10-31</td>\n",
       "      <td>TX</td>\n",
       "      <td>78602</td>\n",
       "      <td>Bastrop</td>\n",
       "      <td>Core</td>\n",
       "      <td>1193</td>\n",
       "      <td>1111 developers llc</td>\n",
       "      <td>1111 developers llc</td>\n",
       "      <td>15306245198</td>\n",
       "      <td>2023</td>\n",
       "      <td>March</td>\n",
       "      <td>3</td>\n",
       "    </tr>\n",
       "    <tr>\n",
       "      <th>5</th>\n",
       "      <td>1094094</td>\n",
       "      <td>313666</td>\n",
       "      <td>2022-05-15 00:00:00</td>\n",
       "      <td>2022-09-21 00:00:00.000</td>\n",
       "      <td>310063.00</td>\n",
       "      <td>7627</td>\n",
       "      <td>first choice home builders</td>\n",
       "      <td>2007-08-28</td>\n",
       "      <td>OH</td>\n",
       "      <td>45601</td>\n",
       "      <td>Ross</td>\n",
       "      <td>Classic</td>\n",
       "      <td>620</td>\n",
       "      <td>first choice home builders</td>\n",
       "      <td>first choice home builders</td>\n",
       "      <td>9685158522</td>\n",
       "      <td>2022</td>\n",
       "      <td>September</td>\n",
       "      <td>2</td>\n",
       "    </tr>\n",
       "    <tr>\n",
       "      <th>6</th>\n",
       "      <td>1103435</td>\n",
       "      <td>313668</td>\n",
       "      <td>2022-09-12 00:00:00</td>\n",
       "      <td>2022-12-28 00:00:00.000</td>\n",
       "      <td>224817.00</td>\n",
       "      <td>7627</td>\n",
       "      <td>first choice home builders</td>\n",
       "      <td>2007-08-28</td>\n",
       "      <td>OH</td>\n",
       "      <td>43107</td>\n",
       "      <td>Fairfield</td>\n",
       "      <td>Classic</td>\n",
       "      <td>450</td>\n",
       "      <td>first choice home builders</td>\n",
       "      <td>first choice home builders</td>\n",
       "      <td>9685158522</td>\n",
       "      <td>2022</td>\n",
       "      <td>September</td>\n",
       "      <td>2</td>\n",
       "    </tr>\n",
       "    <tr>\n",
       "      <th>7</th>\n",
       "      <td>1098826</td>\n",
       "      <td>426337</td>\n",
       "      <td>2022-07-29 00:00:00</td>\n",
       "      <td>2022-11-07 00:00:00.000</td>\n",
       "      <td>217785.00</td>\n",
       "      <td>7627</td>\n",
       "      <td>first choice home builders</td>\n",
       "      <td>2007-08-28</td>\n",
       "      <td>OH</td>\n",
       "      <td>45644</td>\n",
       "      <td>Ross</td>\n",
       "      <td>Classic</td>\n",
       "      <td>436</td>\n",
       "      <td>first choice home builders</td>\n",
       "      <td>first choice home builders</td>\n",
       "      <td>9685158522</td>\n",
       "      <td>2022</td>\n",
       "      <td>September</td>\n",
       "      <td>2</td>\n",
       "    </tr>\n",
       "    <tr>\n",
       "      <th>8</th>\n",
       "      <td>1094291</td>\n",
       "      <td>448835</td>\n",
       "      <td>2022-05-15 00:00:00</td>\n",
       "      <td>2022-09-21 00:00:00.000</td>\n",
       "      <td>666580.00</td>\n",
       "      <td>7627</td>\n",
       "      <td>first choice home builders</td>\n",
       "      <td>2007-08-28</td>\n",
       "      <td>OH</td>\n",
       "      <td>43138</td>\n",
       "      <td>Hocking</td>\n",
       "      <td>Classic</td>\n",
       "      <td>1333</td>\n",
       "      <td>first choice home builders</td>\n",
       "      <td>first choice home builders</td>\n",
       "      <td>9685158522</td>\n",
       "      <td>2022</td>\n",
       "      <td>September</td>\n",
       "      <td>2</td>\n",
       "    </tr>\n",
       "    <tr>\n",
       "      <th>9</th>\n",
       "      <td>1098808</td>\n",
       "      <td>458452</td>\n",
       "      <td>2022-07-15 00:00:00</td>\n",
       "      <td>2022-11-07 00:00:00.000</td>\n",
       "      <td>375569.75</td>\n",
       "      <td>7627</td>\n",
       "      <td>first choice home builders</td>\n",
       "      <td>2007-08-28</td>\n",
       "      <td>OH</td>\n",
       "      <td>45644</td>\n",
       "      <td>Ross</td>\n",
       "      <td>Classic</td>\n",
       "      <td>751</td>\n",
       "      <td>first choice home builders</td>\n",
       "      <td>first choice home builders</td>\n",
       "      <td>9685158522</td>\n",
       "      <td>2022</td>\n",
       "      <td>September</td>\n",
       "      <td>2</td>\n",
       "    </tr>\n",
       "  </tbody>\n",
       "</table>\n",
       "</div>"
      ],
      "text/plain": [
       "  CertificateNumber  WarrantyEnrollmentAppID         ClosingDate  \\\n",
       "0         W10657342                   657342 2023-06-02 05:00:00   \n",
       "1           1113400                   685163 2023-03-27 00:00:00   \n",
       "2         W10701958                   701958 2024-02-27 06:00:00   \n",
       "3           1104252                   674932 2022-12-09 00:00:00   \n",
       "4         W10701820                   701820 2024-02-28 06:00:00   \n",
       "5           1094094                   313666 2022-05-15 00:00:00   \n",
       "6           1103435                   313668 2022-09-12 00:00:00   \n",
       "7           1098826                   426337 2022-07-29 00:00:00   \n",
       "8           1094291                   448835 2022-05-15 00:00:00   \n",
       "9           1098808                   458452 2022-07-15 00:00:00   \n",
       "\n",
       "              ActivatedAt  FormattedPurchasePrice  BuilderNumber  \\\n",
       "0 2024-02-28 15:27:10.735              1600000.00          23093   \n",
       "1 2023-05-30 00:00:00.000              1450000.00          23093   \n",
       "2 2024-03-14 21:09:02.635              1555000.00          23093   \n",
       "3 2023-01-09 00:00:00.000               345000.00          22253   \n",
       "4 2024-03-21 14:05:14.343               367000.00          22253   \n",
       "5 2022-09-21 00:00:00.000               310063.00           7627   \n",
       "6 2022-12-28 00:00:00.000               224817.00           7627   \n",
       "7 2022-11-07 00:00:00.000               217785.00           7627   \n",
       "8 2022-09-21 00:00:00.000               666580.00           7627   \n",
       "9 2022-11-07 00:00:00.000               375569.75           7627   \n",
       "\n",
       "               Company Name_x BuilderApprovalDate StateId ZipCode     County  \\\n",
       "0         1111 developers llc          2023-03-30      TX   75229    Dallas    \n",
       "1         1111 developers llc          2023-03-30      TX   75229     Dallas   \n",
       "2         1111 developers llc          2023-03-30      TX   75229     Dallas   \n",
       "3         1111 developers llc          2022-10-31      TX   78602    Bastrop   \n",
       "4         1111 developers llc          2022-10-31      TX   78602    Bastrop   \n",
       "5  first choice home builders          2007-08-28      OH   45601       Ross   \n",
       "6  first choice home builders          2007-08-28      OH   43107  Fairfield   \n",
       "7  first choice home builders          2007-08-28      OH   45644       Ross   \n",
       "8  first choice home builders          2007-08-28      OH   43138    Hocking   \n",
       "9  first choice home builders          2007-08-28      OH   45644       Ross   \n",
       "\n",
       "  ProductSegment  Premium        Company Name_matched  \\\n",
       "0           Core     5200         1111 developers llc   \n",
       "1        Classic     5655         1111 developers llc   \n",
       "2           Core     5054         1111 developers llc   \n",
       "3        Classic     1121         1111 developers llc   \n",
       "4           Core     1193         1111 developers llc   \n",
       "5        Classic      620  first choice home builders   \n",
       "6        Classic      450  first choice home builders   \n",
       "7        Classic      436  first choice home builders   \n",
       "8        Classic     1333  first choice home builders   \n",
       "9        Classic      751  first choice home builders   \n",
       "\n",
       "               Company Name_y   Company Id  Year of Createdate  \\\n",
       "0         1111 developers llc  15306245198                2023   \n",
       "1         1111 developers llc  15306245198                2023   \n",
       "2         1111 developers llc  15306245198                2023   \n",
       "3         1111 developers llc  15306245198                2023   \n",
       "4         1111 developers llc  15306245198                2023   \n",
       "5  first choice home builders   9685158522                2022   \n",
       "6  first choice home builders   9685158522                2022   \n",
       "7  first choice home builders   9685158522                2022   \n",
       "8  first choice home builders   9685158522                2022   \n",
       "9  first choice home builders   9685158522                2022   \n",
       "\n",
       "  Month of Createdate  Pod  \n",
       "0               March    3  \n",
       "1               March    3  \n",
       "2               March    3  \n",
       "3               March    3  \n",
       "4               March    3  \n",
       "5           September    2  \n",
       "6           September    2  \n",
       "7           September    2  \n",
       "8           September    2  \n",
       "9           September    2  "
      ]
     },
     "execution_count": 58,
     "metadata": {},
     "output_type": "execute_result"
    }
   ],
   "source": [
    "merged_df_fuzzy_unique.head(10)"
   ]
  },
  {
   "cell_type": "code",
   "execution_count": 59,
   "id": "9b189f72",
   "metadata": {},
   "outputs": [
    {
     "name": "stdout",
     "output_type": "stream",
     "text": [
      "<class 'pandas.core.frame.DataFrame'>\n",
      "Index: 40191 entries, 0 to 15412772\n",
      "Data columns (total 19 columns):\n",
      " #   Column                   Non-Null Count  Dtype         \n",
      "---  ------                   --------------  -----         \n",
      " 0   CertificateNumber        40191 non-null  object        \n",
      " 1   WarrantyEnrollmentAppID  40191 non-null  int64         \n",
      " 2   ClosingDate              39901 non-null  datetime64[ns]\n",
      " 3   ActivatedAt              40191 non-null  datetime64[ns]\n",
      " 4   FormattedPurchasePrice   40115 non-null  float64       \n",
      " 5   BuilderNumber            40191 non-null  int64         \n",
      " 6   Company Name_x           40191 non-null  object        \n",
      " 7   BuilderApprovalDate      40175 non-null  datetime64[ns]\n",
      " 8   StateId                  40191 non-null  object        \n",
      " 9   ZipCode                  40191 non-null  object        \n",
      " 10  County                   40185 non-null  object        \n",
      " 11  ProductSegment           40191 non-null  object        \n",
      " 12  Premium                  40191 non-null  int64         \n",
      " 13  Company Name_matched     6988 non-null   object        \n",
      " 14  Company Name_y           6988 non-null   object        \n",
      " 15  Company Id               40191 non-null  int64         \n",
      " 16  Year of Createdate       40191 non-null  int64         \n",
      " 17  Month of Createdate      40191 non-null  object        \n",
      " 18  Pod                      40191 non-null  int64         \n",
      "dtypes: datetime64[ns](3), float64(1), int64(6), object(9)\n",
      "memory usage: 6.1+ MB\n"
     ]
    }
   ],
   "source": [
    "merged_df_fuzzy_unique.info()"
   ]
  },
  {
   "cell_type": "markdown",
   "id": "1da231a3",
   "metadata": {},
   "source": [
    "I want to aggregate the count of certificates by state. StateId is the column representing states in merged_df_fuzzy_unique:"
   ]
  },
  {
   "cell_type": "code",
   "execution_count": 60,
   "id": "c5b9ad83",
   "metadata": {},
   "outputs": [],
   "source": [
    "state_certificate_counts = merged_df_fuzzy_unique['StateId'].value_counts().reset_index()\n",
    "state_certificate_counts.columns = ['State', 'Count']\n",
    "state_certificate_counts = state_certificate_counts.sort_values(by='Count', ascending=False)"
   ]
  },
  {
   "cell_type": "code",
   "execution_count": 61,
   "id": "b15c049e",
   "metadata": {
    "scrolled": false
   },
   "outputs": [
    {
     "data": {
      "image/png": "[encoded data removed]",
      "text/plain": [
       "<Figure size 1008x576 with 1 Axes>"
      ]
     },
     "metadata": {
      "needs_background": "light"
     },
     "output_type": "display_data"
    }
   ],
   "source": [
    "plt.figure(figsize=(14, 8))  # Adjust the figure size as needed\n",
    "sns.barplot(data=state_certificate_counts, x='State', y='Count', palette='coolwarm')\n",
    "plt.title('Count of Certificates by State')\n",
    "plt.xlabel('State')\n",
    "plt.ylabel('Count of Certificates')\n",
    "plt.xticks(rotation=45)  # Rotate the state labels for better readability\n",
    "plt.show()"
   ]
  },
  {
   "cell_type": "markdown",
   "id": "dea2b26f",
   "metadata": {},
   "source": [
    "To visualize the sum of premiums by state, I'll first aggregate the total premium amounts for each state, and then create a chart to display this information. This visualization can provide insights into which states generate the most revenue in terms of premiums, potentially informing resource allocation and regional strategies.\n",
    "\n",
    "First, calculate the sum of premiums for each state. Premium is the column representing the premium amounts in merged_df_fuzzy_unique and StateId represents the states:"
   ]
  },
  {
   "cell_type": "code",
   "execution_count": 62,
   "id": "8180d0d4",
   "metadata": {},
   "outputs": [],
   "source": [
    "premiums_by_state = merged_df_fuzzy_unique.groupby('StateId')['Premium'].sum().reset_index()\n",
    "premiums_by_state = premiums_by_state.sort_values(by='Premium', ascending=False)"
   ]
  },
  {
   "cell_type": "code",
   "execution_count": 63,
   "id": "85792ad3",
   "metadata": {},
   "outputs": [
    {
     "data": {
      "image/png": "[encoded data removed]",
      "text/plain": [
       "<Figure size 1008x576 with 1 Axes>"
      ]
     },
     "metadata": {
      "needs_background": "light"
     },
     "output_type": "display_data"
    }
   ],
   "source": [
    "plt.figure(figsize=(14, 8))  # Adjust the figure size as needed\n",
    "sns.barplot(data=premiums_by_state, x='StateId', y='Premium', palette='viridis')\n",
    "plt.title('Total Premiums by State')\n",
    "plt.xlabel('State')\n",
    "plt.ylabel('Total Premiums')\n",
    "plt.xticks(rotation=45)  # Rotate the state labels for better readability\n",
    "plt.show()"
   ]
  },
  {
   "cell_type": "markdown",
   "id": "c98d8c57",
   "metadata": {},
   "source": [
    "To visualize the average premium by state, I'll need to calculate the mean premium for each state and then create a chart to display this information. This type of visualization can offer insights into regional differences in the average cost of warranties, which might inform pricing strategies or highlight areas with higher or lower than average premiums.\n",
    "\n",
    "First, calculate the average (mean) premium for each state.  Premium is the column for premium amounts and StateId represents the states in merged_df_fuzzy_unique:"
   ]
  },
  {
   "cell_type": "code",
   "execution_count": 64,
   "id": "f0efffec",
   "metadata": {},
   "outputs": [],
   "source": [
    "average_premiums_by_state = merged_df_fuzzy_unique.groupby('StateId')['Premium'].mean().reset_index()\n",
    "average_premiums_by_state = average_premiums_by_state.sort_values(by='Premium', ascending=False)"
   ]
  },
  {
   "cell_type": "code",
   "execution_count": 65,
   "id": "6a7372c2",
   "metadata": {},
   "outputs": [
    {
     "data": {
      "image/png": "[encoded data removed]",
      "text/plain": [
       "<Figure size 1008x576 with 1 Axes>"
      ]
     },
     "metadata": {
      "needs_background": "light"
     },
     "output_type": "display_data"
    }
   ],
   "source": [
    "plt.figure(figsize=(14, 8))  # You might need to adjust this size depending on the number of states\n",
    "sns.barplot(data=average_premiums_by_state, x='StateId', y='Premium', palette='coolwarm')\n",
    "plt.title('Average Premiums by State')\n",
    "plt.xlabel('State')\n",
    "plt.ylabel('Average Premium')\n",
    "plt.xticks(rotation=45)  # Rotate state labels for better readability\n",
    "plt.show()"
   ]
  },
  {
   "cell_type": "markdown",
   "id": "200a38e1",
   "metadata": {},
   "source": [
    "This chart depicts an inconsistency in premium pricing, this will need to be further investigated at a later time. "
   ]
  },
  {
   "cell_type": "markdown",
   "id": "bf740b54",
   "metadata": {},
   "source": [
    "Creating visualization to show how conversion rates change over time, giving insights into seasonal trends, effectiveness of sales strategies, and market dynamics."
   ]
  },
  {
   "cell_type": "code",
   "execution_count": 66,
   "id": "a683d7f3",
   "metadata": {},
   "outputs": [
    {
     "data": {
      "image/png": "[encoded data removed]",
      "text/plain": [
       "<Figure size 864x432 with 1 Axes>"
      ]
     },
     "metadata": {
      "needs_background": "light"
     },
     "output_type": "display_data"
    }
   ],
   "source": [
    "# 'ClosingDate' indicates a successful sale\n",
    "# First, created a 'SaleYearMonth' column for aggregation\n",
    "merged_df_fuzzy_unique['SaleYearMonth'] = merged_df_fuzzy_unique['ActivatedAt'].dt.to_period('M')\n",
    "\n",
    "# Calculate conversion rates by month\n",
    "conversion_rates = merged_df_fuzzy_unique.groupby('SaleYearMonth').size()\n",
    "\n",
    "plt.figure(figsize=(12, 6))\n",
    "conversion_rates.plot(kind='line')\n",
    "plt.title('Conversion Rates Over Time')\n",
    "plt.xlabel('Year-Month')\n",
    "plt.ylabel('Number of Conversions')\n",
    "plt.xticks(rotation=45)\n",
    "plt.show()"
   ]
  },
  {
   "cell_type": "code",
   "execution_count": 67,
   "id": "b7fd6961",
   "metadata": {},
   "outputs": [],
   "source": [
    "merged_df_fuzzy_unique['IsConverted'] = ~merged_df_fuzzy_unique['ClosingDate'].isnull()"
   ]
  },
  {
   "cell_type": "code",
   "execution_count": 68,
   "id": "fbcd543d",
   "metadata": {},
   "outputs": [],
   "source": [
    "# Count the number of conversions by POD\n",
    "conversions_count_by_pod = merged_df_fuzzy_unique[merged_df_fuzzy_unique['IsConverted']].groupby('Pod').size().reset_index(name='Conversions')"
   ]
  },
  {
   "cell_type": "code",
   "execution_count": 69,
   "id": "9086448e",
   "metadata": {},
   "outputs": [
    {
     "data": {
      "image/png": "[encoded data removed]",
      "text/plain": [
       "<Figure size 720x432 with 1 Axes>"
      ]
     },
     "metadata": {
      "needs_background": "light"
     },
     "output_type": "display_data"
    }
   ],
   "source": [
    "plt.figure(figsize=(10, 6))\n",
    "sns.barplot(data=conversions_count_by_pod, x='Pod', y='Conversions', palette='Set2')\n",
    "plt.title('Count of Conversions by POD')\n",
    "plt.xlabel('POD')\n",
    "plt.ylabel('Count of Conversions')\n",
    "plt.xticks(rotation=45)  # Adjust the rotation as needed for better label readability\n",
    "plt.show()"
   ]
  },
  {
   "cell_type": "markdown",
   "id": "a44820d3",
   "metadata": {},
   "source": [
    "Creating a prediction model to forecast which POD will close the most deals, while excluding POD 4 from the analysis, involves several steps, including data preparation, feature selection, model training, and evaluation. "
   ]
  },
  {
   "cell_type": "markdown",
   "id": "279d71d3",
   "metadata": {},
   "source": [
    "Excluding POD 4 from dataset and preparing the features (X) and target (y). The target variable (y) the count of closed deals for each POD, and features (X) include any variables that might predict sales performance - average purchase price, conversion rate, temporal features like month or quarter."
   ]
  },
  {
   "cell_type": "code",
   "execution_count": 70,
   "id": "8edbd8ae",
   "metadata": {},
   "outputs": [],
   "source": [
    "# Filter out Pod 4\n",
    "df_filtered = merged_df_fuzzy_unique[merged_df_fuzzy_unique['Pod'] != 4]\n",
    "\n",
    "# Ensure 'ActivatedAt' is a datetime type\n",
    "df_filtered['ActivatedAt'] = pd.to_datetime(df_filtered['ActivatedAt'])\n",
    "\n",
    "# Extract year and month from 'ActivatedAt' for temporal analysis\n",
    "df_filtered['Year'] = df_filtered['ActivatedAt'].dt.year\n",
    "df_filtered['Month'] = df_filtered['ActivatedAt'].dt.month\n"
   ]
  },
  {
   "cell_type": "code",
   "execution_count": 71,
   "id": "4b1debc6",
   "metadata": {},
   "outputs": [],
   "source": [
    "# Create a 'DealClosed' flag based on 'ClosingDate' not being null\n",
    "df_filtered['DealClosed'] = ~df_filtered['ClosingDate'].isna()\n",
    "\n",
    "# Aggregate data by Pod, Year, and Month\n",
    "aggregated_data = df_filtered.groupby(['Pod', 'Year', 'Month']).agg(\n",
    "    TotalDeals=('DealClosed', 'sum')  # Count of deals closed\n",
    ").reset_index()\n"
   ]
  },
  {
   "cell_type": "code",
   "execution_count": 72,
   "id": "28956762",
   "metadata": {},
   "outputs": [
    {
     "data": {
      "image/png": "[encoded data removed]",
      "text/plain": [
       "<Figure size 864x432 with 1 Axes>"
      ]
     },
     "metadata": {
      "needs_background": "light"
     },
     "output_type": "display_data"
    }
   ],
   "source": [
    "plt.figure(figsize=(12, 6))\n",
    "sns.lineplot(data=aggregated_data, x='Month', y='TotalDeals', hue='Pod', marker='o')\n",
    "plt.title('Monthly Deal Closures by Pod')\n",
    "plt.xlabel('Month')\n",
    "plt.ylabel('Total Deals Closed')\n",
    "plt.legend(title='Pod')\n",
    "plt.xticks(range(1, 13), ['Jan', 'Feb', 'Mar', 'Apr', 'May', 'Jun', 'Jul', 'Aug', 'Sep', 'Oct', 'Nov', 'Dec'])\n",
    "plt.show()\n"
   ]
  },
  {
   "cell_type": "markdown",
   "id": "ac2d8cbe",
   "metadata": {},
   "source": [
    "This visualization helps identify trends and potentially predict future performance based on past patterns.  Showing POD 3 as top performing over the Spring months as well as September. "
   ]
  },
  {
   "cell_type": "markdown",
   "id": "29a8fb2a",
   "metadata": {},
   "source": [
    "Next I will calculate the percent of converting leads. "
   ]
  },
  {
   "cell_type": "code",
   "execution_count": 73,
   "id": "6413b788",
   "metadata": {},
   "outputs": [
    {
     "name": "stdout",
     "output_type": "stream",
     "text": [
      "Total CRM Leads: 3062\n",
      "Total Certificate Entries: 40191\n",
      "Count of Non-Converting Leads: 2327\n",
      "Count of Converting Leads: 190\n",
      "Percent of Converting Leads: 8.17%\n"
     ]
    }
   ],
   "source": [
    "# Convert company names in both datasets to sets for efficient comparison\n",
    "unique_crm_companies = set(df_crm['Company Name'].unique())\n",
    "unique_cert_companies = set(df_cert['Company Name'].unique())\n",
    "\n",
    "# Identify non-converting leads (companies present in CRM but not in Cert)\n",
    "non_converting_leads = unique_crm_companies.difference(unique_cert_companies)\n",
    "\n",
    "# Convert back to list if you want to filter or further manipulate the DataFrame\n",
    "non_converting_list = list(non_converting_leads)\n",
    "\n",
    "# Count of non-converting leads\n",
    "count_non_converting = len(non_converting_list)\n",
    "\n",
    "# Count of converting leads (companies present in both CRM and Cert)\n",
    "converting_leads = unique_crm_companies.intersection(unique_cert_companies)\n",
    "count_converting = len(converting_leads)\n",
    "\n",
    "# Total counts from original DataFrames for context\n",
    "total_crm_leads = df_crm.shape[0]\n",
    "total_cert_leads = df_cert.shape[0]\n",
    "\n",
    "# Printing counts for clarity\n",
    "print(f\"Total CRM Leads: {total_crm_leads}\")\n",
    "print(f\"Total Certificate Entries: {total_cert_leads}\")\n",
    "print(f\"Count of Non-Converting Leads: {count_non_converting}\")\n",
    "print(f\"Count of Converting Leads: {count_converting}\")\n",
    "print(f\"Percent of Converting Leads: {(count_converting/count_non_converting)*100:.2f}%\")"
   ]
  },
  {
   "cell_type": "markdown",
   "id": "89d80806",
   "metadata": {},
   "source": [
    "Running cluster analysis through K-means and determining the number of clusters using the elbow method. "
   ]
  },
  {
   "cell_type": "code",
   "execution_count": 74,
   "id": "3c006df2",
   "metadata": {},
   "outputs": [
    {
     "data": {
      "image/png": "[encoded data removed]",
      "text/plain": [
       "<Figure size 720x432 with 1 Axes>"
      ]
     },
     "metadata": {
      "needs_background": "light"
     },
     "output_type": "display_data"
    }
   ],
   "source": [
    "from sklearn.cluster import KMeans\n",
    "from sklearn.preprocessing import StandardScaler\n",
    "\n",
    "#Selecting numerical columns only\n",
    "numerical_cols = ['Company Id', 'Year of Createdate', 'Pod']  # Add your numerical columns here\n",
    "df_numerical = df_filtered[numerical_cols]\n",
    "\n",
    "# Scale the features\n",
    "scaler = StandardScaler()\n",
    "df_scaled = scaler.fit_transform(df_numerical)\n",
    "\n",
    "# Determine the optimal number of clusters using the elbow method\n",
    "wcss = []\n",
    "for i in range(1, 11):\n",
    "    kmeans = KMeans(n_clusters=i, init='k-means++', max_iter=300, n_init=10, random_state=42)\n",
    "    kmeans.fit(df_scaled)\n",
    "    wcss.append(kmeans.inertia_)\n",
    "\n",
    "# Plot the WCSS to observe the 'elbow'\n",
    "plt.figure(figsize=(10, 6))\n",
    "plt.plot(range(1, 11), wcss)\n",
    "plt.title('Elbow Method')\n",
    "plt.xlabel('Number of clusters')\n",
    "plt.ylabel('WCSS')\n",
    "plt.show()\n",
    "\n",
    "# Assuming you choose k=3 based on the elbow plot\n",
    "k = 3\n",
    "kmeans = KMeans(n_clusters=k, init='k-means++', max_iter=300, n_init=10, random_state=42)\n",
    "y_kmeans = kmeans.fit_predict(df_scaled)\n",
    "\n",
    "# Add the cluster labels to your original DataFrame\n",
    "df_filtered['Cluster'] = y_kmeans\n"
   ]
  },
  {
   "cell_type": "code",
   "execution_count": 75,
   "id": "115e526b",
   "metadata": {},
   "outputs": [
    {
     "data": {
      "image/png": "[encoded data removed]",
      "text/plain": [
       "<Figure size 720x432 with 1 Axes>"
      ]
     },
     "metadata": {
      "needs_background": "light"
     },
     "output_type": "display_data"
    }
   ],
   "source": [
    "from sklearn.decomposition import PCA\n",
    "\n",
    "# Applying PCA to reduce dimensions to 2 for visualization\n",
    "pca = PCA(n_components=2)\n",
    "df_pca = pca.fit_transform(df_scaled)\n",
    "\n",
    "# Creating a DataFrame for the PCA results\n",
    "df_pca = pd.DataFrame(df_pca, columns=['PC1', 'PC2'])\n",
    "\n",
    "# Adding the cluster labels\n",
    "df_pca['Cluster'] = y_kmeans\n",
    "\n",
    "# Plotting the clusters\n",
    "plt.figure(figsize=(10, 6))\n",
    "colors = ['red', 'green', 'blue']\n",
    "for i in range(k):\n",
    "    plt.scatter(df_pca[df_pca['Cluster'] == i]['PC1'], df_pca[df_pca['Cluster'] == i]['PC2'], \n",
    "                label=f'Cluster {i}', s=50, c=colors[i], alpha=0.6)\n",
    "    \n",
    "plt.title('Clusters Visualization using PCA')\n",
    "plt.xlabel('Principal Component 1')\n",
    "plt.ylabel('Principal Component 2')\n",
    "plt.legend()\n",
    "plt.grid(True)\n",
    "plt.show()\n"
   ]
  },
  {
   "cell_type": "markdown",
   "id": "6b02920a",
   "metadata": {},
   "source": [
    "Next using Logistic Regression to predict likelihood of sales lead converting. "
   ]
  },
  {
   "cell_type": "code",
   "execution_count": 76,
   "id": "dc133bb1",
   "metadata": {},
   "outputs": [
    {
     "name": "stdout",
     "output_type": "stream",
     "text": [
      "Adjusted Classification Report:\n",
      "               precision    recall  f1-score   support\n",
      "\n",
      "           0       0.05      0.81      0.10        16\n",
      "           1       1.00      0.81      0.90      1276\n",
      "\n",
      "    accuracy                           0.81      1292\n",
      "   macro avg       0.52      0.81      0.50      1292\n",
      "weighted avg       0.99      0.81      0.89      1292\n",
      "\n",
      "Adjusted Confusion Matrix:\n",
      " [[  13    3]\n",
      " [ 237 1039]]\n"
     ]
    }
   ],
   "source": [
    "from sklearn.model_selection import train_test_split\n",
    "from sklearn.compose import ColumnTransformer\n",
    "from sklearn.preprocessing import StandardScaler, OneHotEncoder\n",
    "from sklearn.linear_model import LogisticRegression\n",
    "from sklearn.pipeline import Pipeline\n",
    "from sklearn.metrics import classification_report, confusion_matrix\n",
    "from sklearn.impute import SimpleImputer \n",
    "\n",
    "# Excluding non-feature columns and the target column\n",
    "feature_cols = ['WarrantyEnrollmentAppID', 'FormattedPurchasePrice', 'BuilderNumber',\n",
    "                'Premium', 'Company Id', 'Year of Createdate', 'Pod', \n",
    "                'Year', 'Month', 'Cluster']  # Add other columns you deem as features\n",
    "target_col = 'IsConverted'\n",
    "\n",
    "# Convert boolean target to int\n",
    "df_filtered[target_col] = df_filtered[target_col].astype(int)\n",
    "\n",
    "# Split the DataFrame into features (X) and target (y)\n",
    "X = df_filtered[feature_cols]\n",
    "y = df_filtered[target_col]\n",
    "\n",
    "# Split data into training and test sets\n",
    "X_train, X_test, y_train, y_test = train_test_split(X, y, test_size=0.2, random_state=42)\n",
    "\n",
    "# Identify categorical and numerical columns in the features\n",
    "categorical_cols = X_train.select_dtypes(include=['object', 'category']).columns\n",
    "numerical_cols = X_train.select_dtypes(include=['int64', 'float64', 'int32']).columns\n",
    "\n",
    "# Modify the preprocessor to include SimpleImputer for numerical columns\n",
    "preprocessor = ColumnTransformer(\n",
    "    transformers=[\n",
    "        ('num', Pipeline(steps=[\n",
    "            ('imputer', SimpleImputer(strategy='mean')),  # Impute missing values with the mean\n",
    "            ('scaler', StandardScaler())]), numerical_cols),\n",
    "        ('cat', OneHotEncoder(handle_unknown='ignore'), categorical_cols)\n",
    "    ])\n",
    "\n",
    "# Adjust the model in the pipeline\n",
    "pipeline = Pipeline(steps=[\n",
    "    ('preprocessor', preprocessor),\n",
    "    ('model', LogisticRegression(max_iter=1000, class_weight='balanced', random_state=42))\n",
    "])\n",
    "\n",
    "# Fit the model with the adjusted pipeline\n",
    "pipeline.fit(X_train, y_train)\n",
    "\n",
    "# Make predictions and evaluate the model again\n",
    "y_pred = pipeline.predict(X_test)\n",
    "print(\"Adjusted Classification Report:\\n\", classification_report(y_test, y_pred))\n",
    "print(\"Adjusted Confusion Matrix:\\n\", confusion_matrix(y_test, y_pred))\n"
   ]
  },
  {
   "cell_type": "markdown",
   "id": "202afe72",
   "metadata": {},
   "source": [
    "Class 0 (Not Converted): Represents the leads that did not convert into sales.\n",
    "\n",
    "\n",
    "Class 1 (Converted): Represents the leads that successfully converted into sales."
   ]
  },
  {
   "cell_type": "markdown",
   "id": "f39a0883",
   "metadata": {},
   "source": [
    "A confusion matrix provides a breakdown of the model's performance:"
   ]
  },
  {
   "cell_type": "code",
   "execution_count": 78,
   "id": "e61bb8fc",
   "metadata": {},
   "outputs": [
    {
     "data": {
      "image/png": "[encoded data removed]",
      "text/plain": [
       "<Figure size 576x432 with 2 Axes>"
      ]
     },
     "metadata": {
      "needs_background": "light"
     },
     "output_type": "display_data"
    }
   ],
   "source": [
    "from sklearn.metrics import confusion_matrix\n",
    "\n",
    "# y_test and y_pred are true labels and predictions, respectively\n",
    "cm = confusion_matrix(y_test, y_pred)\n",
    "\n",
    "# Plotting the heatmap\n",
    "plt.figure(figsize=(8, 6))\n",
    "sns.heatmap(cm, annot=True, fmt=\"d\", cmap=\"Blues\", xticklabels=[\"Not Converted\", \"Converted\"], yticklabels=[\"Not Converted\", \"Converted\"])\n",
    "plt.ylabel('Actual')\n",
    "plt.xlabel('Predicted')\n",
    "plt.title('Confusion Matrix Heatmap')\n",
    "plt.show()\n"
   ]
  },
  {
   "cell_type": "markdown",
   "id": "7231d269",
   "metadata": {},
   "source": [
    "The adjusted confusion matrix shows a good number of TP (1038) indicating successful prediction of conversions.\n",
    "\n",
    "The TN (13) is relatively low, which suggests that there are few cases of correctly identifying non-conversions. Given the small number of actual non-conversions (16), this isn't necessarily a problem but indicates the rarity of non-conversion cases or possible class imbalance.\n",
    "\n",
    "FPs (3) are very low, indicating the model seldom incorrectly predicts a conversion.\n",
    "\n",
    "FNs (238) suggest there are a considerable number of conversions that the model fails to identify. This could be an area to improve, as each missed conversion represents a potential revenue opportunity that wasn't anticipated."
   ]
  },
  {
   "cell_type": "markdown",
   "id": "35fca1f0",
   "metadata": {},
   "source": [
    "A high number of TP and TN values relative to FP and FN indicates a good model performance.\n",
    "\n",
    "A high FP rate might indicate that the model is too optimistic, seeing conversions where there are none. This might waste resources by overinvesting in leads unlikely to convert.\n",
    "\n",
    "A high FN rate might indicate the model is too pessimistic, potentially missing out on genuine opportunities for conversion. This could mean missed revenue or lost opportunities for growth."
   ]
  },
  {
   "cell_type": "markdown",
   "id": "20d361ed",
   "metadata": {},
   "source": [
    "The high recall for the \"Converted\" class (0.81) indicates that the model is quite good at capturing the majority of actual conversions, even though it's somewhat prone to missing some (indicated by the FN count). The precision for the \"Not Converted\" class is low (0.05), partly because the actual number of non-conversions is very small, making any error more impactful on precision and recall metrics."
   ]
  },
  {
   "cell_type": "markdown",
   "id": "26646df6",
   "metadata": {},
   "source": [
    "Model Overview:\n",
    "       The predictive model focuses on identifying which sales leads are most likely to convert into actual sales. The model uses historical data from our CRM and warranty systems to learn patterns that indicate a successful conversion.\n",
    "\n",
    "High-Level Performance:\n",
    "        Overall, the model is highly effective, with an accuracy rate of approximately 81%. This means that in 81% of cases, the model accurately predicts whether a lead will convert or not.\n",
    "\n",
    "Strengths of the Model:\n",
    "        One of the model's key strengths is its ability to correctly identify a large majority of the leads that will convert. Specifically, it correctly identified conversions 81% of the time, which suggests it is a valuable tool for focusing our sales efforts on the most promising leads.\n",
    "\n",
    "Areas for Improvement:\n",
    "        However, the model tends to miss some opportunities, as indicated by a false negative rate. This means that there are leads that could have converted but were not identified by the model as high-potential. We're looking into ways to reduce this rate, which could involve further refining our data inputs or adjusting the model's parameters.\n",
    "\n",
    "Implications for Business Strategy:\n",
    "        The model's current performance suggests that it can significantly enhance our sales strategy by prioritizing leads with the highest likelihood of conversion. This could lead to more efficient use of our sales resources and potentially higher conversion rates overall.\n",
    "        The insights from the model also provide us with opportunities to revisit and optimize our lead engagement strategies, especially for those leads that the model predicts as non-converting but might still hold potential.\n",
    "\n",
    "Next Steps:\n",
    "        We plan to integrate the model's predictions into our sales processes, enabling more targeted follow-ups. Additionally, we will continue refining the model by incorporating more detailed data and feedback from the sales team to further improve its accuracy.\n",
    "        \n",
    "Call to Action:\n",
    "        To fully leverage the model's capabilities, we recommend a collaborative approach where sales and data teams work closely to continually refine our sales targeting strategies based on model predictions and real-world outcomes.\n",
    "\n",
    "By focusing on these key points, you convey the value of the model in enhancing business strategies, while also being transparent about its limitations and the need for ongoing improvement."
   ]
  }
 ],
 "metadata": {
  "kernelspec": {
   "display_name": "Python 3",
   "language": "python",
   "name": "python3"
  },
  "language_info": {
   "codemirror_mode": {
    "name": "ipython",
    "version": 3
   },
   "file_extension": ".py",
   "mimetype": "text/x-python",
   "name": "python",
   "nbconvert_exporter": "python",
   "pygments_lexer": "ipython3",
   "version": "3.8.8"
  }
 },
 "nbformat": 4,
 "nbformat_minor": 5
}
