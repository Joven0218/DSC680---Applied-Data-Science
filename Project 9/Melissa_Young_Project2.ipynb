{
 "cells": [
  {
   "cell_type": "code",
   "execution_count": 59,
   "metadata": {},
   "outputs": [],
   "source": [
    "import pandas as pd\n",
    "import numpy as np\n",
    "import seaborn as sns\n",
    "import matplotlib.pyplot as plt\n",
    "%matplotlib inline\n",
    "import warnings\n",
    "warnings.filterwarnings('ignore')"
   ]
  },
  {
   "cell_type": "code",
   "execution_count": 60,
   "metadata": {},
   "outputs": [
    {
     "data": {
      "text/html": [
       "<div>\n",
       "<style scoped>\n",
       "    .dataframe tbody tr th:only-of-type {\n",
       "        vertical-align: middle;\n",
       "    }\n",
       "\n",
       "    .dataframe tbody tr th {\n",
       "        vertical-align: top;\n",
       "    }\n",
       "\n",
       "    .dataframe thead th {\n",
       "        text-align: right;\n",
       "    }\n",
       "</style>\n",
       "<table border=\"1\" class=\"dataframe\">\n",
       "  <thead>\n",
       "    <tr style=\"text-align: right;\">\n",
       "      <th></th>\n",
       "      <th>CertificateNumber</th>\n",
       "      <th>WarrantyEnrollmentAppID</th>\n",
       "      <th>ClosingDate</th>\n",
       "      <th>ActivatedAt</th>\n",
       "      <th>FormattedPurchasePrice</th>\n",
       "      <th>BuilderNumber</th>\n",
       "      <th>Company Name</th>\n",
       "      <th>BuilderApprovalDate</th>\n",
       "      <th>StateId</th>\n",
       "      <th>ZipCode</th>\n",
       "      <th>County</th>\n",
       "      <th>ProductSegment</th>\n",
       "      <th>Premium</th>\n",
       "    </tr>\n",
       "  </thead>\n",
       "  <tbody>\n",
       "    <tr>\n",
       "      <th>0</th>\n",
       "      <td>W10657342</td>\n",
       "      <td>657342</td>\n",
       "      <td>2023-06-02 05:00:00</td>\n",
       "      <td>2024-02-28 15:27:10.735</td>\n",
       "      <td>1600000.00</td>\n",
       "      <td>23093</td>\n",
       "      <td>11/11 Developers LLC</td>\n",
       "      <td>2023-03-30</td>\n",
       "      <td>TX</td>\n",
       "      <td>75229</td>\n",
       "      <td>Dallas</td>\n",
       "      <td>Core</td>\n",
       "      <td>5200</td>\n",
       "    </tr>\n",
       "    <tr>\n",
       "      <th>1</th>\n",
       "      <td>1113400</td>\n",
       "      <td>685163</td>\n",
       "      <td>2023-03-27 00:00:00</td>\n",
       "      <td>2023-05-30 00:00:00.000</td>\n",
       "      <td>1450000.00</td>\n",
       "      <td>23093</td>\n",
       "      <td>11/11 Developers LLC</td>\n",
       "      <td>2023-03-30</td>\n",
       "      <td>TX</td>\n",
       "      <td>75229</td>\n",
       "      <td>Dallas</td>\n",
       "      <td>Classic</td>\n",
       "      <td>5655</td>\n",
       "    </tr>\n",
       "    <tr>\n",
       "      <th>2</th>\n",
       "      <td>W10701958</td>\n",
       "      <td>701958</td>\n",
       "      <td>2024-02-27 06:00:00</td>\n",
       "      <td>2024-03-14 21:09:02.635</td>\n",
       "      <td>1555000.00</td>\n",
       "      <td>23093</td>\n",
       "      <td>11/11 Developers LLC</td>\n",
       "      <td>2023-03-30</td>\n",
       "      <td>TX</td>\n",
       "      <td>75229</td>\n",
       "      <td>Dallas</td>\n",
       "      <td>Core</td>\n",
       "      <td>5054</td>\n",
       "    </tr>\n",
       "    <tr>\n",
       "      <th>3</th>\n",
       "      <td>1104252</td>\n",
       "      <td>674932</td>\n",
       "      <td>2022-12-09 00:00:00</td>\n",
       "      <td>2023-01-09 00:00:00.000</td>\n",
       "      <td>345000.00</td>\n",
       "      <td>22253</td>\n",
       "      <td>11/11 Developers LLC</td>\n",
       "      <td>2022-10-31</td>\n",
       "      <td>TX</td>\n",
       "      <td>78602</td>\n",
       "      <td>Bastrop</td>\n",
       "      <td>Classic</td>\n",
       "      <td>1121</td>\n",
       "    </tr>\n",
       "    <tr>\n",
       "      <th>4</th>\n",
       "      <td>W10701820</td>\n",
       "      <td>701820</td>\n",
       "      <td>2024-02-28 06:00:00</td>\n",
       "      <td>2024-03-21 14:05:14.343</td>\n",
       "      <td>367000.00</td>\n",
       "      <td>22253</td>\n",
       "      <td>11/11 Developers LLC</td>\n",
       "      <td>2022-10-31</td>\n",
       "      <td>TX</td>\n",
       "      <td>78602</td>\n",
       "      <td>Bastrop</td>\n",
       "      <td>Core</td>\n",
       "      <td>1193</td>\n",
       "    </tr>\n",
       "    <tr>\n",
       "      <th>5</th>\n",
       "      <td>1094094</td>\n",
       "      <td>313666</td>\n",
       "      <td>2022-05-15 00:00:00</td>\n",
       "      <td>2022-09-21 00:00:00.000</td>\n",
       "      <td>310063.00</td>\n",
       "      <td>7627</td>\n",
       "      <td>First Choice Home Builders</td>\n",
       "      <td>2007-08-28</td>\n",
       "      <td>OH</td>\n",
       "      <td>45601</td>\n",
       "      <td>Ross</td>\n",
       "      <td>Classic</td>\n",
       "      <td>620</td>\n",
       "    </tr>\n",
       "    <tr>\n",
       "      <th>6</th>\n",
       "      <td>1103435</td>\n",
       "      <td>313668</td>\n",
       "      <td>2022-09-12 00:00:00</td>\n",
       "      <td>2022-12-28 00:00:00.000</td>\n",
       "      <td>224817.00</td>\n",
       "      <td>7627</td>\n",
       "      <td>First Choice Home Builders</td>\n",
       "      <td>2007-08-28</td>\n",
       "      <td>OH</td>\n",
       "      <td>43107</td>\n",
       "      <td>Fairfield</td>\n",
       "      <td>Classic</td>\n",
       "      <td>450</td>\n",
       "    </tr>\n",
       "    <tr>\n",
       "      <th>7</th>\n",
       "      <td>1098826</td>\n",
       "      <td>426337</td>\n",
       "      <td>2022-07-29 00:00:00</td>\n",
       "      <td>2022-11-07 00:00:00.000</td>\n",
       "      <td>217785.00</td>\n",
       "      <td>7627</td>\n",
       "      <td>First Choice Home Builders</td>\n",
       "      <td>2007-08-28</td>\n",
       "      <td>OH</td>\n",
       "      <td>45644</td>\n",
       "      <td>Ross</td>\n",
       "      <td>Classic</td>\n",
       "      <td>436</td>\n",
       "    </tr>\n",
       "    <tr>\n",
       "      <th>8</th>\n",
       "      <td>1094291</td>\n",
       "      <td>448835</td>\n",
       "      <td>2022-05-15 00:00:00</td>\n",
       "      <td>2022-09-21 00:00:00.000</td>\n",
       "      <td>666580.00</td>\n",
       "      <td>7627</td>\n",
       "      <td>First Choice Home Builders</td>\n",
       "      <td>2007-08-28</td>\n",
       "      <td>OH</td>\n",
       "      <td>43138</td>\n",
       "      <td>Hocking</td>\n",
       "      <td>Classic</td>\n",
       "      <td>1333</td>\n",
       "    </tr>\n",
       "    <tr>\n",
       "      <th>9</th>\n",
       "      <td>1098808</td>\n",
       "      <td>458452</td>\n",
       "      <td>2022-07-15 00:00:00</td>\n",
       "      <td>2022-11-07 00:00:00.000</td>\n",
       "      <td>375569.75</td>\n",
       "      <td>7627</td>\n",
       "      <td>First Choice Home Builders</td>\n",
       "      <td>2007-08-28</td>\n",
       "      <td>OH</td>\n",
       "      <td>45644</td>\n",
       "      <td>Ross</td>\n",
       "      <td>Classic</td>\n",
       "      <td>751</td>\n",
       "    </tr>\n",
       "  </tbody>\n",
       "</table>\n",
       "</div>"
      ],
      "text/plain": [
       "  CertificateNumber  WarrantyEnrollmentAppID         ClosingDate  \\\n",
       "0         W10657342                   657342 2023-06-02 05:00:00   \n",
       "1           1113400                   685163 2023-03-27 00:00:00   \n",
       "2         W10701958                   701958 2024-02-27 06:00:00   \n",
       "3           1104252                   674932 2022-12-09 00:00:00   \n",
       "4         W10701820                   701820 2024-02-28 06:00:00   \n",
       "5           1094094                   313666 2022-05-15 00:00:00   \n",
       "6           1103435                   313668 2022-09-12 00:00:00   \n",
       "7           1098826                   426337 2022-07-29 00:00:00   \n",
       "8           1094291                   448835 2022-05-15 00:00:00   \n",
       "9           1098808                   458452 2022-07-15 00:00:00   \n",
       "\n",
       "              ActivatedAt  FormattedPurchasePrice  BuilderNumber  \\\n",
       "0 2024-02-28 15:27:10.735              1600000.00          23093   \n",
       "1 2023-05-30 00:00:00.000              1450000.00          23093   \n",
       "2 2024-03-14 21:09:02.635              1555000.00          23093   \n",
       "3 2023-01-09 00:00:00.000               345000.00          22253   \n",
       "4 2024-03-21 14:05:14.343               367000.00          22253   \n",
       "5 2022-09-21 00:00:00.000               310063.00           7627   \n",
       "6 2022-12-28 00:00:00.000               224817.00           7627   \n",
       "7 2022-11-07 00:00:00.000               217785.00           7627   \n",
       "8 2022-09-21 00:00:00.000               666580.00           7627   \n",
       "9 2022-11-07 00:00:00.000               375569.75           7627   \n",
       "\n",
       "                 Company Name BuilderApprovalDate StateId ZipCode     County  \\\n",
       "0        11/11 Developers LLC          2023-03-30      TX   75229    Dallas    \n",
       "1        11/11 Developers LLC          2023-03-30      TX   75229     Dallas   \n",
       "2        11/11 Developers LLC          2023-03-30      TX   75229     Dallas   \n",
       "3        11/11 Developers LLC          2022-10-31      TX   78602    Bastrop   \n",
       "4        11/11 Developers LLC          2022-10-31      TX   78602    Bastrop   \n",
       "5  First Choice Home Builders          2007-08-28      OH   45601       Ross   \n",
       "6  First Choice Home Builders          2007-08-28      OH   43107  Fairfield   \n",
       "7  First Choice Home Builders          2007-08-28      OH   45644       Ross   \n",
       "8  First Choice Home Builders          2007-08-28      OH   43138    Hocking   \n",
       "9  First Choice Home Builders          2007-08-28      OH   45644       Ross   \n",
       "\n",
       "  ProductSegment  Premium  \n",
       "0           Core     5200  \n",
       "1        Classic     5655  \n",
       "2           Core     5054  \n",
       "3        Classic     1121  \n",
       "4           Core     1193  \n",
       "5        Classic      620  \n",
       "6        Classic      450  \n",
       "7        Classic      436  \n",
       "8        Classic     1333  \n",
       "9        Classic      751  "
      ]
     },
     "execution_count": 60,
     "metadata": {},
     "output_type": "execute_result"
    }
   ],
   "source": [
    "# Loading the builder summary data set and viewing top 10 rows of dataframe \n",
    "df_mak = pd.read_excel(r'C:\\Users\\mdyoung\\OneDrive - Bankers Financial Corporation\\Desktop\\Bellevue\\DSC680_T301_2245_1 - Applied Data Science\\Weeks 5 - 8\\mak_table.xlsx')\n",
    "df_mak.head(10)"
   ]
  },
  {
   "cell_type": "code",
   "execution_count": 61,
   "metadata": {},
   "outputs": [
    {
     "name": "stdout",
     "output_type": "stream",
     "text": [
      "<class 'pandas.core.frame.DataFrame'>\n",
      "RangeIndex: 40191 entries, 0 to 40190\n",
      "Data columns (total 13 columns):\n",
      " #   Column                   Non-Null Count  Dtype         \n",
      "---  ------                   --------------  -----         \n",
      " 0   CertificateNumber        40191 non-null  object        \n",
      " 1   WarrantyEnrollmentAppID  40191 non-null  int64         \n",
      " 2   ClosingDate              39901 non-null  datetime64[ns]\n",
      " 3   ActivatedAt              40191 non-null  datetime64[ns]\n",
      " 4   FormattedPurchasePrice   40115 non-null  float64       \n",
      " 5   BuilderNumber            40191 non-null  int64         \n",
      " 6   Company Name             40191 non-null  object        \n",
      " 7   BuilderApprovalDate      40175 non-null  datetime64[ns]\n",
      " 8   StateId                  40191 non-null  object        \n",
      " 9   ZipCode                  40191 non-null  object        \n",
      " 10  County                   40185 non-null  object        \n",
      " 11  ProductSegment           40191 non-null  object        \n",
      " 12  Premium                  40191 non-null  int64         \n",
      "dtypes: datetime64[ns](3), float64(1), int64(3), object(6)\n",
      "memory usage: 4.0+ MB\n"
     ]
    }
   ],
   "source": [
    "# Viewing summary of builder data\n",
    "df_mak.info()"
   ]
  },
  {
   "cell_type": "code",
   "execution_count": 62,
   "metadata": {},
   "outputs": [
    {
     "data": {
      "text/html": [
       "<div>\n",
       "<style scoped>\n",
       "    .dataframe tbody tr th:only-of-type {\n",
       "        vertical-align: middle;\n",
       "    }\n",
       "\n",
       "    .dataframe tbody tr th {\n",
       "        vertical-align: top;\n",
       "    }\n",
       "\n",
       "    .dataframe thead th {\n",
       "        text-align: right;\n",
       "    }\n",
       "</style>\n",
       "<table border=\"1\" class=\"dataframe\">\n",
       "  <thead>\n",
       "    <tr style=\"text-align: right;\">\n",
       "      <th></th>\n",
       "      <th>count</th>\n",
       "      <th>mean</th>\n",
       "      <th>min</th>\n",
       "      <th>25%</th>\n",
       "      <th>50%</th>\n",
       "      <th>75%</th>\n",
       "      <th>max</th>\n",
       "      <th>std</th>\n",
       "    </tr>\n",
       "  </thead>\n",
       "  <tbody>\n",
       "    <tr>\n",
       "      <th>WarrantyEnrollmentAppID</th>\n",
       "      <td>40191.0</td>\n",
       "      <td>631823.399592</td>\n",
       "      <td>305774.0</td>\n",
       "      <td>654932.5</td>\n",
       "      <td>679809.0</td>\n",
       "      <td>690461.5</td>\n",
       "      <td>706396.0</td>\n",
       "      <td>103170.935688</td>\n",
       "    </tr>\n",
       "    <tr>\n",
       "      <th>ClosingDate</th>\n",
       "      <td>39901</td>\n",
       "      <td>2023-05-07 18:09:41.038069248</td>\n",
       "      <td>2001-05-25 04:00:00</td>\n",
       "      <td>2022-12-21 00:00:00</td>\n",
       "      <td>2023-05-05 00:00:00</td>\n",
       "      <td>2023-09-15 04:00:00</td>\n",
       "      <td>2026-06-28 00:00:00</td>\n",
       "      <td>NaN</td>\n",
       "    </tr>\n",
       "    <tr>\n",
       "      <th>ActivatedAt</th>\n",
       "      <td>40191</td>\n",
       "      <td>2023-06-08 07:23:44.749024512</td>\n",
       "      <td>2022-09-06 00:00:00</td>\n",
       "      <td>2023-01-18 00:00:00</td>\n",
       "      <td>2023-05-31 00:00:00</td>\n",
       "      <td>2023-10-23 19:35:12.892499968</td>\n",
       "      <td>2024-03-22 21:31:29.272000</td>\n",
       "      <td>NaN</td>\n",
       "    </tr>\n",
       "    <tr>\n",
       "      <th>FormattedPurchasePrice</th>\n",
       "      <td>40115.0</td>\n",
       "      <td>476463.426457</td>\n",
       "      <td>0.0</td>\n",
       "      <td>327022.0</td>\n",
       "      <td>405000.0</td>\n",
       "      <td>539414.5</td>\n",
       "      <td>16518000.0</td>\n",
       "      <td>278596.323896</td>\n",
       "    </tr>\n",
       "    <tr>\n",
       "      <th>BuilderNumber</th>\n",
       "      <td>40191.0</td>\n",
       "      <td>51565899.184096</td>\n",
       "      <td>124.0</td>\n",
       "      <td>13104.0</td>\n",
       "      <td>16439.0</td>\n",
       "      <td>22086.0</td>\n",
       "      <td>230000018115.0</td>\n",
       "      <td>3441449294.095469</td>\n",
       "    </tr>\n",
       "    <tr>\n",
       "      <th>BuilderApprovalDate</th>\n",
       "      <td>40175</td>\n",
       "      <td>2011-11-30 23:53:45.797137664</td>\n",
       "      <td>1993-04-20 00:00:00</td>\n",
       "      <td>2008-02-20 00:00:00</td>\n",
       "      <td>2014-10-13 00:00:00</td>\n",
       "      <td>2018-03-05 00:00:00</td>\n",
       "      <td>2024-03-20 00:00:00</td>\n",
       "      <td>NaN</td>\n",
       "    </tr>\n",
       "    <tr>\n",
       "      <th>Premium</th>\n",
       "      <td>40191.0</td>\n",
       "      <td>540.616108</td>\n",
       "      <td>0.0</td>\n",
       "      <td>173.0</td>\n",
       "      <td>341.0</td>\n",
       "      <td>755.0</td>\n",
       "      <td>14350.0</td>\n",
       "      <td>619.101711</td>\n",
       "    </tr>\n",
       "  </tbody>\n",
       "</table>\n",
       "</div>"
      ],
      "text/plain": [
       "                           count                           mean  \\\n",
       "WarrantyEnrollmentAppID  40191.0                  631823.399592   \n",
       "ClosingDate                39901  2023-05-07 18:09:41.038069248   \n",
       "ActivatedAt                40191  2023-06-08 07:23:44.749024512   \n",
       "FormattedPurchasePrice   40115.0                  476463.426457   \n",
       "BuilderNumber            40191.0                51565899.184096   \n",
       "BuilderApprovalDate        40175  2011-11-30 23:53:45.797137664   \n",
       "Premium                  40191.0                     540.616108   \n",
       "\n",
       "                                         min                  25%  \\\n",
       "WarrantyEnrollmentAppID             305774.0             654932.5   \n",
       "ClosingDate              2001-05-25 04:00:00  2022-12-21 00:00:00   \n",
       "ActivatedAt              2022-09-06 00:00:00  2023-01-18 00:00:00   \n",
       "FormattedPurchasePrice                   0.0             327022.0   \n",
       "BuilderNumber                          124.0              13104.0   \n",
       "BuilderApprovalDate      1993-04-20 00:00:00  2008-02-20 00:00:00   \n",
       "Premium                                  0.0                173.0   \n",
       "\n",
       "                                         50%                            75%  \\\n",
       "WarrantyEnrollmentAppID             679809.0                       690461.5   \n",
       "ClosingDate              2023-05-05 00:00:00            2023-09-15 04:00:00   \n",
       "ActivatedAt              2023-05-31 00:00:00  2023-10-23 19:35:12.892499968   \n",
       "FormattedPurchasePrice              405000.0                       539414.5   \n",
       "BuilderNumber                        16439.0                        22086.0   \n",
       "BuilderApprovalDate      2014-10-13 00:00:00            2018-03-05 00:00:00   \n",
       "Premium                                341.0                          755.0   \n",
       "\n",
       "                                                max                std  \n",
       "WarrantyEnrollmentAppID                    706396.0      103170.935688  \n",
       "ClosingDate                     2026-06-28 00:00:00                NaN  \n",
       "ActivatedAt              2024-03-22 21:31:29.272000                NaN  \n",
       "FormattedPurchasePrice                   16518000.0      278596.323896  \n",
       "BuilderNumber                        230000018115.0  3441449294.095469  \n",
       "BuilderApprovalDate             2024-03-20 00:00:00                NaN  \n",
       "Premium                                     14350.0         619.101711  "
      ]
     },
     "execution_count": 62,
     "metadata": {},
     "output_type": "execute_result"
    }
   ],
   "source": [
    "# Viewing stat summary for builder data\n",
    "df_mak.describe().T"
   ]
  },
  {
   "cell_type": "code",
   "execution_count": 63,
   "metadata": {},
   "outputs": [
    {
     "data": {
      "text/html": [
       "<div>\n",
       "<style scoped>\n",
       "    .dataframe tbody tr th:only-of-type {\n",
       "        vertical-align: middle;\n",
       "    }\n",
       "\n",
       "    .dataframe tbody tr th {\n",
       "        vertical-align: top;\n",
       "    }\n",
       "\n",
       "    .dataframe thead th {\n",
       "        text-align: right;\n",
       "    }\n",
       "</style>\n",
       "<table border=\"1\" class=\"dataframe\">\n",
       "  <thead>\n",
       "    <tr style=\"text-align: right;\">\n",
       "      <th></th>\n",
       "      <th>ContractNumber</th>\n",
       "      <th>DealerNumber</th>\n",
       "      <th>DealerName</th>\n",
       "      <th>ProductDescription</th>\n",
       "      <th>ManufacturerDescription</th>\n",
       "      <th>ModelNumber</th>\n",
       "      <th>StateCode</th>\n",
       "      <th>ReceivedDate</th>\n",
       "      <th>EffectiveDate</th>\n",
       "      <th>PurchaseDate</th>\n",
       "      <th>...</th>\n",
       "      <th>ContractTerm</th>\n",
       "      <th>ContractType</th>\n",
       "      <th>WarrantyType</th>\n",
       "      <th>ServiceType</th>\n",
       "      <th>ContractCostAmount</th>\n",
       "      <th>ProductRetailAmount</th>\n",
       "      <th>ClaimAmount</th>\n",
       "      <th>Loss Date</th>\n",
       "      <th>ProductGroup</th>\n",
       "      <th>PWCProductGroup</th>\n",
       "    </tr>\n",
       "  </thead>\n",
       "  <tbody>\n",
       "    <tr>\n",
       "      <th>0</th>\n",
       "      <td>AU48094</td>\n",
       "      <td>56596 A</td>\n",
       "      <td>BON MARCHE APPLIANCE CENTER</td>\n",
       "      <td>MICROWAVE</td>\n",
       "      <td>FRIGIDAIRE</td>\n",
       "      <td>FGMV17WNVF</td>\n",
       "      <td>LA</td>\n",
       "      <td>2021-09-30</td>\n",
       "      <td>2022-09-19</td>\n",
       "      <td>2021-09-18</td>\n",
       "      <td>...</td>\n",
       "      <td>3</td>\n",
       "      <td>Replace</td>\n",
       "      <td>Repl.</td>\n",
       "      <td>In Shop</td>\n",
       "      <td>23.15</td>\n",
       "      <td>298.00</td>\n",
       "      <td>0.0</td>\n",
       "      <td>NaN</td>\n",
       "      <td>Appliance</td>\n",
       "      <td>All Other Appliance</td>\n",
       "    </tr>\n",
       "    <tr>\n",
       "      <th>1</th>\n",
       "      <td>AU48115</td>\n",
       "      <td>56596 A</td>\n",
       "      <td>BON MARCHE APPLIANCE CENTER</td>\n",
       "      <td>MICROWAVE</td>\n",
       "      <td>FRIGIDAIRE</td>\n",
       "      <td>FFMV1845VS</td>\n",
       "      <td>LA</td>\n",
       "      <td>2021-09-30</td>\n",
       "      <td>2022-09-18</td>\n",
       "      <td>2021-09-17</td>\n",
       "      <td>...</td>\n",
       "      <td>3</td>\n",
       "      <td>Replace</td>\n",
       "      <td>Repl.</td>\n",
       "      <td>In Shop</td>\n",
       "      <td>23.15</td>\n",
       "      <td>248.00</td>\n",
       "      <td>0.0</td>\n",
       "      <td>NaN</td>\n",
       "      <td>Appliance</td>\n",
       "      <td>All Other Appliance</td>\n",
       "    </tr>\n",
       "    <tr>\n",
       "      <th>2</th>\n",
       "      <td>AU49973</td>\n",
       "      <td>57054 A</td>\n",
       "      <td>BOBCAT HOME FURNISHINGS CO</td>\n",
       "      <td>FREEZER</td>\n",
       "      <td>GALANZ</td>\n",
       "      <td>GLF70CWED0</td>\n",
       "      <td>MT</td>\n",
       "      <td>2021-09-30</td>\n",
       "      <td>2022-09-18</td>\n",
       "      <td>2021-09-17</td>\n",
       "      <td>...</td>\n",
       "      <td>3</td>\n",
       "      <td>Replace</td>\n",
       "      <td>Repl.</td>\n",
       "      <td>In Shop</td>\n",
       "      <td>20.15</td>\n",
       "      <td>289.99</td>\n",
       "      <td>0.0</td>\n",
       "      <td>NaN</td>\n",
       "      <td>Appliance</td>\n",
       "      <td>All Other Appliance</td>\n",
       "    </tr>\n",
       "    <tr>\n",
       "      <th>3</th>\n",
       "      <td>AU48097</td>\n",
       "      <td>56596 A</td>\n",
       "      <td>BON MARCHE APPLIANCE CENTER</td>\n",
       "      <td>FREEZER</td>\n",
       "      <td>ASCOLI</td>\n",
       "      <td>ACCF0700W1</td>\n",
       "      <td>LA</td>\n",
       "      <td>2021-09-30</td>\n",
       "      <td>2022-08-27</td>\n",
       "      <td>2021-08-26</td>\n",
       "      <td>...</td>\n",
       "      <td>2</td>\n",
       "      <td>Replace</td>\n",
       "      <td>Repl.</td>\n",
       "      <td>In Shop</td>\n",
       "      <td>14.01</td>\n",
       "      <td>218.00</td>\n",
       "      <td>0.0</td>\n",
       "      <td>NaN</td>\n",
       "      <td>Appliance</td>\n",
       "      <td>All Other Appliance</td>\n",
       "    </tr>\n",
       "    <tr>\n",
       "      <th>4</th>\n",
       "      <td>AU47695</td>\n",
       "      <td>56181 A</td>\n",
       "      <td>LYONS APPLIANCE</td>\n",
       "      <td>FREEZER</td>\n",
       "      <td>FRIGIDAIRE</td>\n",
       "      <td>FFCS0722AW</td>\n",
       "      <td>IA</td>\n",
       "      <td>2021-09-30</td>\n",
       "      <td>2021-09-30</td>\n",
       "      <td>2021-09-30</td>\n",
       "      <td>...</td>\n",
       "      <td>5</td>\n",
       "      <td>Repair</td>\n",
       "      <td>Serv.</td>\n",
       "      <td>On Site</td>\n",
       "      <td>64.72</td>\n",
       "      <td>349.00</td>\n",
       "      <td>0.0</td>\n",
       "      <td>NaN</td>\n",
       "      <td>Appliance</td>\n",
       "      <td>All Other Appliance</td>\n",
       "    </tr>\n",
       "    <tr>\n",
       "      <th>5</th>\n",
       "      <td>AU47946</td>\n",
       "      <td>56464 A</td>\n",
       "      <td>RW MCDONALD AND SONS</td>\n",
       "      <td>REFRIGERATOR</td>\n",
       "      <td>GE</td>\n",
       "      <td>GNE25JMKES</td>\n",
       "      <td>PA</td>\n",
       "      <td>2021-09-30</td>\n",
       "      <td>2021-09-30</td>\n",
       "      <td>2021-09-30</td>\n",
       "      <td>...</td>\n",
       "      <td>5</td>\n",
       "      <td>Repair</td>\n",
       "      <td>Serv.</td>\n",
       "      <td>On Site</td>\n",
       "      <td>114.33</td>\n",
       "      <td>1800.00</td>\n",
       "      <td>0.0</td>\n",
       "      <td>NaN</td>\n",
       "      <td>Appliance - Refrig</td>\n",
       "      <td>Appliance</td>\n",
       "    </tr>\n",
       "    <tr>\n",
       "      <th>6</th>\n",
       "      <td>AU48170</td>\n",
       "      <td>56694 A</td>\n",
       "      <td>CHAVIS FURNITURE</td>\n",
       "      <td>REFRIGERATOR</td>\n",
       "      <td>GE</td>\n",
       "      <td>GNE27JYMFS</td>\n",
       "      <td>AL</td>\n",
       "      <td>2021-09-30</td>\n",
       "      <td>2021-09-30</td>\n",
       "      <td>2021-09-30</td>\n",
       "      <td>...</td>\n",
       "      <td>5</td>\n",
       "      <td>Repair</td>\n",
       "      <td>Serv.</td>\n",
       "      <td>On Site</td>\n",
       "      <td>114.33</td>\n",
       "      <td>1959.00</td>\n",
       "      <td>0.0</td>\n",
       "      <td>NaN</td>\n",
       "      <td>Appliance - Refrig</td>\n",
       "      <td>Appliance</td>\n",
       "    </tr>\n",
       "    <tr>\n",
       "      <th>7</th>\n",
       "      <td>AU48171</td>\n",
       "      <td>56694 A</td>\n",
       "      <td>CHAVIS FURNITURE</td>\n",
       "      <td>RANGE</td>\n",
       "      <td>SAMSUNG</td>\n",
       "      <td>NX58T7511S</td>\n",
       "      <td>AL</td>\n",
       "      <td>2021-09-30</td>\n",
       "      <td>2021-09-30</td>\n",
       "      <td>2021-09-30</td>\n",
       "      <td>...</td>\n",
       "      <td>5</td>\n",
       "      <td>Repair</td>\n",
       "      <td>Serv.</td>\n",
       "      <td>On Site</td>\n",
       "      <td>59.28</td>\n",
       "      <td>829.00</td>\n",
       "      <td>0.0</td>\n",
       "      <td>NaN</td>\n",
       "      <td>Appliance</td>\n",
       "      <td>All Other Appliance</td>\n",
       "    </tr>\n",
       "    <tr>\n",
       "      <th>8</th>\n",
       "      <td>AU47753</td>\n",
       "      <td>56204 A</td>\n",
       "      <td>NIX HOME CENTER</td>\n",
       "      <td>REFRIGERATOR</td>\n",
       "      <td>GE</td>\n",
       "      <td>GSS25GMHES</td>\n",
       "      <td>AR</td>\n",
       "      <td>2021-09-30</td>\n",
       "      <td>2021-09-30</td>\n",
       "      <td>2021-09-30</td>\n",
       "      <td>...</td>\n",
       "      <td>5</td>\n",
       "      <td>Repair</td>\n",
       "      <td>Serv.</td>\n",
       "      <td>On Site</td>\n",
       "      <td>114.33</td>\n",
       "      <td>1599.00</td>\n",
       "      <td>0.0</td>\n",
       "      <td>NaN</td>\n",
       "      <td>Appliance - Refrig</td>\n",
       "      <td>Appliance</td>\n",
       "    </tr>\n",
       "    <tr>\n",
       "      <th>9</th>\n",
       "      <td>AU48169</td>\n",
       "      <td>56694 A</td>\n",
       "      <td>CHAVIS FURNITURE</td>\n",
       "      <td>REFRIGERATOR</td>\n",
       "      <td>WHIRLPOOL</td>\n",
       "      <td>WRS321SDHW</td>\n",
       "      <td>AL</td>\n",
       "      <td>2021-09-30</td>\n",
       "      <td>2021-09-30</td>\n",
       "      <td>2021-09-30</td>\n",
       "      <td>...</td>\n",
       "      <td>5</td>\n",
       "      <td>Repair</td>\n",
       "      <td>Serv.</td>\n",
       "      <td>On Site</td>\n",
       "      <td>97.32</td>\n",
       "      <td>1399.00</td>\n",
       "      <td>0.0</td>\n",
       "      <td>NaN</td>\n",
       "      <td>Appliance - Refrig</td>\n",
       "      <td>Appliance</td>\n",
       "    </tr>\n",
       "  </tbody>\n",
       "</table>\n",
       "<p>10 rows × 22 columns</p>\n",
       "</div>"
      ],
      "text/plain": [
       "  ContractNumber DealerNumber                   DealerName ProductDescription  \\\n",
       "0        AU48094      56596 A  BON MARCHE APPLIANCE CENTER          MICROWAVE   \n",
       "1        AU48115      56596 A  BON MARCHE APPLIANCE CENTER          MICROWAVE   \n",
       "2        AU49973      57054 A   BOBCAT HOME FURNISHINGS CO            FREEZER   \n",
       "3        AU48097      56596 A  BON MARCHE APPLIANCE CENTER            FREEZER   \n",
       "4        AU47695      56181 A              LYONS APPLIANCE            FREEZER   \n",
       "5        AU47946      56464 A         RW MCDONALD AND SONS       REFRIGERATOR   \n",
       "6        AU48170      56694 A             CHAVIS FURNITURE       REFRIGERATOR   \n",
       "7        AU48171      56694 A             CHAVIS FURNITURE              RANGE   \n",
       "8        AU47753      56204 A              NIX HOME CENTER       REFRIGERATOR   \n",
       "9        AU48169      56694 A             CHAVIS FURNITURE       REFRIGERATOR   \n",
       "\n",
       "  ManufacturerDescription ModelNumber StateCode ReceivedDate EffectiveDate  \\\n",
       "0              FRIGIDAIRE  FGMV17WNVF        LA   2021-09-30    2022-09-19   \n",
       "1              FRIGIDAIRE  FFMV1845VS        LA   2021-09-30    2022-09-18   \n",
       "2                  GALANZ  GLF70CWED0        MT   2021-09-30    2022-09-18   \n",
       "3                  ASCOLI  ACCF0700W1        LA   2021-09-30    2022-08-27   \n",
       "4              FRIGIDAIRE  FFCS0722AW        IA   2021-09-30    2021-09-30   \n",
       "5                      GE  GNE25JMKES        PA   2021-09-30    2021-09-30   \n",
       "6                      GE  GNE27JYMFS        AL   2021-09-30    2021-09-30   \n",
       "7                 SAMSUNG  NX58T7511S        AL   2021-09-30    2021-09-30   \n",
       "8                      GE  GSS25GMHES        AR   2021-09-30    2021-09-30   \n",
       "9               WHIRLPOOL  WRS321SDHW        AL   2021-09-30    2021-09-30   \n",
       "\n",
       "  PurchaseDate  ...  ContractTerm ContractType  WarrantyType ServiceType  \\\n",
       "0   2021-09-18  ...             3      Replace         Repl.     In Shop   \n",
       "1   2021-09-17  ...             3      Replace         Repl.     In Shop   \n",
       "2   2021-09-17  ...             3      Replace         Repl.     In Shop   \n",
       "3   2021-08-26  ...             2      Replace         Repl.     In Shop   \n",
       "4   2021-09-30  ...             5       Repair         Serv.     On Site   \n",
       "5   2021-09-30  ...             5       Repair         Serv.     On Site   \n",
       "6   2021-09-30  ...             5       Repair         Serv.     On Site   \n",
       "7   2021-09-30  ...             5       Repair         Serv.     On Site   \n",
       "8   2021-09-30  ...             5       Repair         Serv.     On Site   \n",
       "9   2021-09-30  ...             5       Repair         Serv.     On Site   \n",
       "\n",
       "  ContractCostAmount ProductRetailAmount  ClaimAmount  Loss Date  \\\n",
       "0              23.15              298.00          0.0        NaN   \n",
       "1              23.15              248.00          0.0        NaN   \n",
       "2              20.15              289.99          0.0        NaN   \n",
       "3              14.01              218.00          0.0        NaN   \n",
       "4              64.72              349.00          0.0        NaN   \n",
       "5             114.33             1800.00          0.0        NaN   \n",
       "6             114.33             1959.00          0.0        NaN   \n",
       "7              59.28              829.00          0.0        NaN   \n",
       "8             114.33             1599.00          0.0        NaN   \n",
       "9              97.32             1399.00          0.0        NaN   \n",
       "\n",
       "         ProductGroup      PWCProductGroup  \n",
       "0           Appliance  All Other Appliance  \n",
       "1           Appliance  All Other Appliance  \n",
       "2           Appliance  All Other Appliance  \n",
       "3           Appliance  All Other Appliance  \n",
       "4           Appliance  All Other Appliance  \n",
       "5  Appliance - Refrig            Appliance  \n",
       "6  Appliance - Refrig            Appliance  \n",
       "7           Appliance  All Other Appliance  \n",
       "8  Appliance - Refrig            Appliance  \n",
       "9  Appliance - Refrig            Appliance  \n",
       "\n",
       "[10 rows x 22 columns]"
      ]
     },
     "execution_count": 63,
     "metadata": {},
     "output_type": "execute_result"
    }
   ],
   "source": [
    "# Loading the cent data set and viewing dataframe. \n",
    "df_cent = pd.read_excel(r'C:\\Users\\mdyoung\\OneDrive - Bankers Financial Corporation\\Desktop\\Bellevue\\DSC680_T301_2245_1 - Applied Data Science\\Weeks 5 - 8\\cent_table.xlsx')\n",
    "df_cent.head(10)"
   ]
  },
  {
   "cell_type": "code",
   "execution_count": 64,
   "metadata": {},
   "outputs": [
    {
     "name": "stdout",
     "output_type": "stream",
     "text": [
      "<class 'pandas.core.frame.DataFrame'>\n",
      "RangeIndex: 561962 entries, 0 to 561961\n",
      "Data columns (total 22 columns):\n",
      " #   Column                   Non-Null Count   Dtype         \n",
      "---  ------                   --------------   -----         \n",
      " 0   ContractNumber           561962 non-null  object        \n",
      " 1   DealerNumber             561962 non-null  object        \n",
      " 2   DealerName               561962 non-null  object        \n",
      " 3   ProductDescription       561962 non-null  object        \n",
      " 4   ManufacturerDescription  561962 non-null  object        \n",
      " 5   ModelNumber              561953 non-null  object        \n",
      " 6   StateCode                561962 non-null  object        \n",
      " 7   ReceivedDate             561962 non-null  datetime64[ns]\n",
      " 8   EffectiveDate            561962 non-null  datetime64[ns]\n",
      " 9   PurchaseDate             561962 non-null  datetime64[ns]\n",
      " 10  Year                     561962 non-null  int64         \n",
      " 11  ExpirationDate           561962 non-null  object        \n",
      " 12  ContractTerm             561962 non-null  int64         \n",
      " 13  ContractType             561962 non-null  object        \n",
      " 14  WarrantyType             561962 non-null  object        \n",
      " 15  ServiceType              561962 non-null  object        \n",
      " 16  ContractCostAmount       561962 non-null  float64       \n",
      " 17  ProductRetailAmount      561962 non-null  float64       \n",
      " 18  ClaimAmount              561962 non-null  float64       \n",
      " 19  Loss Date                25791 non-null   float64       \n",
      " 20  ProductGroup             561962 non-null  object        \n",
      " 21  PWCProductGroup          561962 non-null  object        \n",
      "dtypes: datetime64[ns](3), float64(4), int64(2), object(13)\n",
      "memory usage: 94.3+ MB\n"
     ]
    }
   ],
   "source": [
    "# Viewing summary of appliance data\n",
    "df_cent.info()"
   ]
  },
  {
   "cell_type": "code",
   "execution_count": 65,
   "metadata": {},
   "outputs": [
    {
     "data": {
      "text/html": [
       "<div>\n",
       "<style scoped>\n",
       "    .dataframe tbody tr th:only-of-type {\n",
       "        vertical-align: middle;\n",
       "    }\n",
       "\n",
       "    .dataframe tbody tr th {\n",
       "        vertical-align: top;\n",
       "    }\n",
       "\n",
       "    .dataframe thead th {\n",
       "        text-align: right;\n",
       "    }\n",
       "</style>\n",
       "<table border=\"1\" class=\"dataframe\">\n",
       "  <thead>\n",
       "    <tr style=\"text-align: right;\">\n",
       "      <th></th>\n",
       "      <th>count</th>\n",
       "      <th>mean</th>\n",
       "      <th>min</th>\n",
       "      <th>25%</th>\n",
       "      <th>50%</th>\n",
       "      <th>75%</th>\n",
       "      <th>max</th>\n",
       "      <th>std</th>\n",
       "    </tr>\n",
       "  </thead>\n",
       "  <tbody>\n",
       "    <tr>\n",
       "      <th>ReceivedDate</th>\n",
       "      <td>561962</td>\n",
       "      <td>2020-08-18 16:54:14.773809920</td>\n",
       "      <td>2019-01-02 00:00:00</td>\n",
       "      <td>2020-01-25 00:00:00</td>\n",
       "      <td>2020-09-07 00:00:00</td>\n",
       "      <td>2021-04-02 00:00:00</td>\n",
       "      <td>2021-09-30 00:00:00</td>\n",
       "      <td>NaN</td>\n",
       "    </tr>\n",
       "    <tr>\n",
       "      <th>EffectiveDate</th>\n",
       "      <td>561962</td>\n",
       "      <td>2020-07-13 12:01:45.777970176</td>\n",
       "      <td>2019-01-01 00:00:00</td>\n",
       "      <td>2019-12-05 00:00:00</td>\n",
       "      <td>2020-07-31 00:00:00</td>\n",
       "      <td>2021-03-04 00:00:00</td>\n",
       "      <td>2023-08-29 00:00:00</td>\n",
       "      <td>NaN</td>\n",
       "    </tr>\n",
       "    <tr>\n",
       "      <th>PurchaseDate</th>\n",
       "      <td>561962</td>\n",
       "      <td>2020-07-09 08:35:57.429861888</td>\n",
       "      <td>2019-01-01 00:00:00</td>\n",
       "      <td>2019-12-03 00:00:00</td>\n",
       "      <td>2020-07-28 00:00:00</td>\n",
       "      <td>2021-02-28 00:00:00</td>\n",
       "      <td>2021-09-30 00:00:00</td>\n",
       "      <td>NaN</td>\n",
       "    </tr>\n",
       "    <tr>\n",
       "      <th>Year</th>\n",
       "      <td>561962.0</td>\n",
       "      <td>2020.04069</td>\n",
       "      <td>2019.0</td>\n",
       "      <td>2019.0</td>\n",
       "      <td>2020.0</td>\n",
       "      <td>2021.0</td>\n",
       "      <td>2021.0</td>\n",
       "      <td>0.774373</td>\n",
       "    </tr>\n",
       "    <tr>\n",
       "      <th>ContractTerm</th>\n",
       "      <td>561962.0</td>\n",
       "      <td>4.70792</td>\n",
       "      <td>1.0</td>\n",
       "      <td>5.0</td>\n",
       "      <td>5.0</td>\n",
       "      <td>5.0</td>\n",
       "      <td>5.0</td>\n",
       "      <td>0.786689</td>\n",
       "    </tr>\n",
       "    <tr>\n",
       "      <th>ContractCostAmount</th>\n",
       "      <td>561962.0</td>\n",
       "      <td>75.458236</td>\n",
       "      <td>3.84</td>\n",
       "      <td>57.04</td>\n",
       "      <td>69.63</td>\n",
       "      <td>92.21</td>\n",
       "      <td>703.41</td>\n",
       "      <td>33.728644</td>\n",
       "    </tr>\n",
       "    <tr>\n",
       "      <th>ProductRetailAmount</th>\n",
       "      <td>561962.0</td>\n",
       "      <td>1279.801189</td>\n",
       "      <td>0.0</td>\n",
       "      <td>679.0</td>\n",
       "      <td>909.0</td>\n",
       "      <td>1519.99</td>\n",
       "      <td>18999.0</td>\n",
       "      <td>1091.018191</td>\n",
       "    </tr>\n",
       "    <tr>\n",
       "      <th>ClaimAmount</th>\n",
       "      <td>561962.0</td>\n",
       "      <td>10.762085</td>\n",
       "      <td>0.0</td>\n",
       "      <td>0.0</td>\n",
       "      <td>0.0</td>\n",
       "      <td>0.0</td>\n",
       "      <td>10068.81</td>\n",
       "      <td>57.943497</td>\n",
       "    </tr>\n",
       "    <tr>\n",
       "      <th>Loss Date</th>\n",
       "      <td>25791.0</td>\n",
       "      <td>44450.415106</td>\n",
       "      <td>36892.0</td>\n",
       "      <td>44310.5</td>\n",
       "      <td>44487.0</td>\n",
       "      <td>44620.0</td>\n",
       "      <td>44776.0</td>\n",
       "      <td>251.382437</td>\n",
       "    </tr>\n",
       "  </tbody>\n",
       "</table>\n",
       "</div>"
      ],
      "text/plain": [
       "                        count                           mean  \\\n",
       "ReceivedDate           561962  2020-08-18 16:54:14.773809920   \n",
       "EffectiveDate          561962  2020-07-13 12:01:45.777970176   \n",
       "PurchaseDate           561962  2020-07-09 08:35:57.429861888   \n",
       "Year                 561962.0                     2020.04069   \n",
       "ContractTerm         561962.0                        4.70792   \n",
       "ContractCostAmount   561962.0                      75.458236   \n",
       "ProductRetailAmount  561962.0                    1279.801189   \n",
       "ClaimAmount          561962.0                      10.762085   \n",
       "Loss Date             25791.0                   44450.415106   \n",
       "\n",
       "                                     min                  25%  \\\n",
       "ReceivedDate         2019-01-02 00:00:00  2020-01-25 00:00:00   \n",
       "EffectiveDate        2019-01-01 00:00:00  2019-12-05 00:00:00   \n",
       "PurchaseDate         2019-01-01 00:00:00  2019-12-03 00:00:00   \n",
       "Year                              2019.0               2019.0   \n",
       "ContractTerm                         1.0                  5.0   \n",
       "ContractCostAmount                  3.84                57.04   \n",
       "ProductRetailAmount                  0.0                679.0   \n",
       "ClaimAmount                          0.0                  0.0   \n",
       "Loss Date                        36892.0              44310.5   \n",
       "\n",
       "                                     50%                  75%  \\\n",
       "ReceivedDate         2020-09-07 00:00:00  2021-04-02 00:00:00   \n",
       "EffectiveDate        2020-07-31 00:00:00  2021-03-04 00:00:00   \n",
       "PurchaseDate         2020-07-28 00:00:00  2021-02-28 00:00:00   \n",
       "Year                              2020.0               2021.0   \n",
       "ContractTerm                         5.0                  5.0   \n",
       "ContractCostAmount                 69.63                92.21   \n",
       "ProductRetailAmount                909.0              1519.99   \n",
       "ClaimAmount                          0.0                  0.0   \n",
       "Loss Date                        44487.0              44620.0   \n",
       "\n",
       "                                     max          std  \n",
       "ReceivedDate         2021-09-30 00:00:00          NaN  \n",
       "EffectiveDate        2023-08-29 00:00:00          NaN  \n",
       "PurchaseDate         2021-09-30 00:00:00          NaN  \n",
       "Year                              2021.0     0.774373  \n",
       "ContractTerm                         5.0     0.786689  \n",
       "ContractCostAmount                703.41    33.728644  \n",
       "ProductRetailAmount              18999.0  1091.018191  \n",
       "ClaimAmount                     10068.81    57.943497  \n",
       "Loss Date                        44776.0   251.382437  "
      ]
     },
     "execution_count": 65,
     "metadata": {},
     "output_type": "execute_result"
    }
   ],
   "source": [
    "# Viewing stat summary for appliance data\n",
    "df_cent.describe().T"
   ]
  },
  {
   "cell_type": "code",
   "execution_count": 66,
   "metadata": {},
   "outputs": [],
   "source": [
    "# Initial cleaning steps (e.g., dropping duplicates, handling missing values)\n",
    "df_mak.drop_duplicates(inplace=True)\n",
    "df_cent.drop_duplicates(inplace=True)"
   ]
  },
  {
   "cell_type": "code",
   "execution_count": 67,
   "metadata": {},
   "outputs": [
    {
     "data": {
      "text/plain": [
       "(40191, 13)"
      ]
     },
     "execution_count": 67,
     "metadata": {},
     "output_type": "execute_result"
    }
   ],
   "source": [
    "df_mak.shape"
   ]
  },
  {
   "cell_type": "code",
   "execution_count": 68,
   "metadata": {},
   "outputs": [
    {
     "data": {
      "text/plain": [
       "(561962, 22)"
      ]
     },
     "execution_count": 68,
     "metadata": {},
     "output_type": "execute_result"
    }
   ],
   "source": [
    "df_cent.shape"
   ]
  },
  {
   "cell_type": "code",
   "execution_count": 69,
   "metadata": {},
   "outputs": [],
   "source": [
    "# Convert state identifiers to the same format \n",
    "df_mak['StateId'] = df_mak['StateId'].astype(str).str.upper().str.strip()\n",
    "df_cent['StateCode'] = df_cent['StateCode'].astype(str).str.upper().str.strip()"
   ]
  },
  {
   "cell_type": "markdown",
   "metadata": {},
   "source": [
    "Aggregating the data to calculate the total premiums and contract cost amounts per state:"
   ]
  },
  {
   "cell_type": "code",
   "execution_count": 70,
   "metadata": {},
   "outputs": [],
   "source": [
    "# Aggregate premiums by state in both datasets\n",
    "total_premiums_mak = df_mak.groupby('StateId')['Premium'].sum().reset_index(name='Total_Premiums_mak')\n",
    "total_premiums_cent = df_cent.groupby('StateCode')['ContractCostAmount'].sum().reset_index(name='Total_Premiums_cent')"
   ]
  },
  {
   "cell_type": "code",
   "execution_count": 71,
   "metadata": {},
   "outputs": [],
   "source": [
    "# Merge the aggregated data on state\n",
    "combined_premiums = pd.merge(total_premiums_mak, total_premiums_cent, left_on='StateId', right_on='StateCode', how='inner')"
   ]
  },
  {
   "cell_type": "code",
   "execution_count": 72,
   "metadata": {},
   "outputs": [],
   "source": [
    "# Dropping redundant column and rename columns for clarity\n",
    "combined_premiums.drop('StateCode', axis=1, inplace=True)\n",
    "combined_premiums.rename(columns={'StateId': 'State'}, inplace=True)"
   ]
  },
  {
   "cell_type": "code",
   "execution_count": 73,
   "metadata": {},
   "outputs": [
    {
     "name": "stdout",
     "output_type": "stream",
     "text": [
      "  State  Total_Premiums_mak  Total_Premiums_cent\n",
      "0    AL              257816           1238891.75\n",
      "1    AR               13811            961754.57\n",
      "2    AZ              103800            306506.44\n",
      "3    CA              266489           7346257.04\n",
      "4    CO               40537             50544.86\n"
     ]
    }
   ],
   "source": [
    "# Display the resulting DataFrame\n",
    "print(combined_premiums.head())"
   ]
  },
  {
   "cell_type": "code",
   "execution_count": 74,
   "metadata": {},
   "outputs": [],
   "source": [
    "# Calculate combined total for sorting purpose\n",
    "combined_premiums['Combined_Total'] = combined_premiums['Total_Premiums_mak'] + combined_premiums['Total_Premiums_cent']\n",
    "\n",
    "# Sort the DataFrame by combined total in descending order\n",
    "combined_premiums_sorted = combined_premiums.sort_values('Combined_Total', ascending=False)\n",
    "\n",
    "# Remove the 'Combined_Total' column \n",
    "combined_premiums_sorted.drop('Combined_Total', axis=1, inplace=True)\n"
   ]
  },
  {
   "cell_type": "code",
   "execution_count": 75,
   "metadata": {},
   "outputs": [
    {
     "data": {
      "text/plain": [
       "<Figure size 1440x1080 with 0 Axes>"
      ]
     },
     "metadata": {},
     "output_type": "display_data"
    },
    {
     "data": {
      "image/png": "[encoded data removed]",
      "text/plain": [
       "<Figure size 1500x750 with 1 Axes>"
      ]
     },
     "metadata": {
      "needs_background": "light"
     },
     "output_type": "display_data"
    }
   ],
   "source": [
    "# Create a grouped bar chart\n",
    "plt.figure(figsize=(20, 15))  # Set the figure size for better readability\n",
    "\n",
    "# Plotting\n",
    "bar_width = 0.4  # width of bars\n",
    "index = range(len(combined_premiums_sorted))  # the label locations\n",
    "\n",
    "fig, ax = plt.subplots(figsize=(20, 10), dpi=75)\n",
    "bars1 = ax.bar(index, combined_premiums_sorted['Total_Premiums_mak'], bar_width, label='df_mak Premiums', color='blue')\n",
    "bars2 = ax.bar([p + bar_width for p in index], combined_premiums_sorted['Total_Premiums_cent'], bar_width, label='df_cent Premiums', color='green')\n",
    "\n",
    "# Adding some text for labels, title and custom x-axis tick labels, etc.\n",
    "ax.set_xlabel('State')\n",
    "ax.set_ylabel('Total Premiums')\n",
    "ax.set_title('Total Premiums by State from df_mak and df_cent')\n",
    "ax.set_xticks([p + bar_width / 2 for p in index])  # Positioning x-ticks in the center of the groups\n",
    "ax.set_xticklabels(combined_premiums_sorted['State'], rotation=90)\n",
    "ax.legend()\n",
    "\n",
    "plt.show()\n"
   ]
  },
  {
   "cell_type": "code",
   "execution_count": 76,
   "metadata": {},
   "outputs": [],
   "source": [
    "combined_premiums['Combined_Total_Premiums'] = combined_premiums['Total_Premiums_mak'] + combined_premiums['Total_Premiums_cent']\n"
   ]
  },
  {
   "cell_type": "code",
   "execution_count": 77,
   "metadata": {},
   "outputs": [],
   "source": [
    "top_states = combined_premiums.sort_values(by='Combined_Total_Premiums', ascending=False).head(5)\n"
   ]
  },
  {
   "cell_type": "code",
   "execution_count": 78,
   "metadata": {},
   "outputs": [
    {
     "data": {
      "image/png": "[encoded data removed]",
      "text/plain": [
       "<Figure size 720x432 with 1 Axes>"
      ]
     },
     "metadata": {
      "needs_background": "light"
     },
     "output_type": "display_data"
    }
   ],
   "source": [
    "plt.figure(figsize=(10, 6))\n",
    "sns.barplot(x='State', y='Combined_Total_Premiums', data=top_states, palette='colorblind')\n",
    "plt.title('Top 5 States by Combined Premium Size')\n",
    "plt.xlabel('State')\n",
    "plt.ylabel('Combined Premium Totals')\n",
    "plt.show()\n"
   ]
  },
  {
   "cell_type": "code",
   "execution_count": 79,
   "metadata": {},
   "outputs": [],
   "source": [
    "# Prepare the dataset for clustering\n",
    "data_for_clustering = combined_premiums[['Total_Premiums_mak', 'Total_Premiums_cent']]\n"
   ]
  },
  {
   "cell_type": "code",
   "execution_count": 80,
   "metadata": {},
   "outputs": [],
   "source": [
    "from sklearn.preprocessing import StandardScaler\n",
    "\n",
    "scaler = StandardScaler()\n",
    "data_scaled = scaler.fit_transform(data_for_clustering)  # Normalize the data\n"
   ]
  },
  {
   "cell_type": "code",
   "execution_count": 81,
   "metadata": {},
   "outputs": [
    {
     "data": {
      "image/png": "[encoded data removed]",
      "text/plain": [
       "<Figure size 720x432 with 1 Axes>"
      ]
     },
     "metadata": {
      "needs_background": "light"
     },
     "output_type": "display_data"
    }
   ],
   "source": [
    "from sklearn.cluster import KMeans\n",
    "\n",
    "# Calculate SSE for a range of number of cluster\n",
    "sse = []\n",
    "for k in range(1, 11):\n",
    "    kmeans = KMeans(n_clusters=k, random_state=42)\n",
    "    kmeans.fit(data_scaled)\n",
    "    sse.append(kmeans.inertia_)\n",
    "\n",
    "# Plot SSE for each k\n",
    "plt.figure(figsize=(10, 6))\n",
    "plt.plot(range(1, 11), sse, marker='o')\n",
    "plt.title('Elbow Method to Determine Optimal k')\n",
    "plt.xlabel('Number of Clusters')\n",
    "plt.ylabel('Sum of Squared Distances')\n",
    "plt.show()\n"
   ]
  },
  {
   "cell_type": "code",
   "execution_count": 82,
   "metadata": {},
   "outputs": [],
   "source": [
    "# Optimal k is found to be 3\n",
    "kmeans = KMeans(n_clusters=3, random_state=42)\n",
    "clusters = kmeans.fit_predict(data_scaled)\n",
    "\n",
    "# Adding the cluster labels to original DataFrame\n",
    "combined_premiums['Cluster'] = clusters\n"
   ]
  },
  {
   "cell_type": "code",
   "execution_count": 83,
   "metadata": {},
   "outputs": [
    {
     "data": {
      "image/png": "[encoded data removed]",
      "text/plain": [
       "<Figure size 720x432 with 1 Axes>"
      ]
     },
     "metadata": {
      "needs_background": "light"
     },
     "output_type": "display_data"
    }
   ],
   "source": [
    "plt.figure(figsize=(10, 6))\n",
    "sns.scatterplot(x='Total_Premiums_mak', y='Total_Premiums_cent', hue='Cluster', data=combined_premiums, palette='viridis', s=100)\n",
    "plt.title('Cluster of States Based on Premiums')\n",
    "plt.xlabel('Total Premiums from df_mak')\n",
    "plt.ylabel('Total Premiums from df_cent')\n",
    "plt.legend(title='Cluster')\n",
    "plt.show()\n"
   ]
  },
  {
   "cell_type": "code",
   "execution_count": 84,
   "metadata": {},
   "outputs": [
    {
     "name": "stdout",
     "output_type": "stream",
     "text": [
      "   State  Total_Premiums_mak  Total_Premiums_cent  Cluster\n",
      "3     CA              266489           7346257.04        0\n",
      "6     FL             4785794           4539629.92        0\n",
      "0     AL              257816           1238891.75        1\n",
      "27    WA              308209           2541037.03        1\n",
      "26    VA              238176           1723663.70        1\n",
      "25    UT              172063             54402.60        1\n",
      "23    TN               37559            544174.06        1\n",
      "22    SC              201980            117243.94        1\n",
      "21    PA                4499            689024.05        1\n",
      "20    OK               34589            352578.99        1\n",
      "19    OH               98627           1103586.83        1\n",
      "18    NV               72209             29441.64        1\n",
      "17    NM               43754            727536.03        1\n",
      "16    NC             1652236            177802.75        1\n",
      "15    MT                2415            159020.51        1\n",
      "14    MS              487838             71439.83        1\n",
      "13    MO              236867           1173813.49        1\n",
      "12    MN               33920            360395.29        1\n",
      "11    MD               51925           2328199.81        1\n",
      "10    LA               40140           2024420.85        1\n",
      "9     IN                6299            754111.88        1\n",
      "8     ID                3630            226960.03        1\n",
      "7     GA              239041            148680.84        1\n",
      "5     DE               19371              2864.88        1\n",
      "4     CO               40537             50544.86        1\n",
      "2     AZ              103800            306506.44        1\n",
      "1     AR               13811            961754.57        1\n",
      "28    WI                3057           2350503.37        1\n",
      "29    WV                5848            162721.18        1\n",
      "24    TX            12265403           1278610.47        2\n"
     ]
    }
   ],
   "source": [
    "# Display the DataFrame with cluster labels\n",
    "clustered_data_display = combined_premiums[['State', 'Total_Premiums_mak', 'Total_Premiums_cent', 'Cluster']]\n",
    "print(clustered_data_display.sort_values(by='Cluster'))\n"
   ]
  },
  {
   "cell_type": "code",
   "execution_count": 85,
   "metadata": {},
   "outputs": [
    {
     "name": "stdout",
     "output_type": "stream",
     "text": [
      "  Cluster Total_Premiums_mak             Total_Premiums_cent            \n",
      "                        mean      median                mean      median\n",
      "0       0       2.526142e+06   2526141.5        5.942943e+06  5942943.48\n",
      "1       1       1.633413e+05     43754.0        7.548637e+05   360395.29\n",
      "2       2       1.226540e+07  12265403.0        1.278610e+06  1278610.47\n"
     ]
    }
   ],
   "source": [
    "# Calculate mean or median values for each cluster\n",
    "cluster_summary = combined_premiums.groupby('Cluster').agg({\n",
    "    'Total_Premiums_mak': ['mean', 'median'],\n",
    "    'Total_Premiums_cent': ['mean', 'median']\n",
    "}).reset_index()\n",
    "\n",
    "print(cluster_summary)\n"
   ]
  },
  {
   "cell_type": "code",
   "execution_count": 86,
   "metadata": {},
   "outputs": [
    {
     "name": "stdout",
     "output_type": "stream",
     "text": [
      "   Cluster                                              State\n",
      "0        0                                           [CA, FL]\n",
      "1        1  [AL, AR, AZ, CO, DE, GA, ID, IN, LA, MD, MN, M...\n",
      "2        2                                               [TX]\n"
     ]
    }
   ],
   "source": [
    "# Group states by cluster and list them\n",
    "cluster_details = combined_premiums.groupby('Cluster')['State'].apply(list).reset_index()\n",
    "print(cluster_details)\n"
   ]
  },
  {
   "cell_type": "code",
   "execution_count": 87,
   "metadata": {},
   "outputs": [
    {
     "name": "stdout",
     "output_type": "stream",
     "text": [
      "  Cluster Total_Premiums_mak                             Total_Premiums_cent  \\\n",
      "                        mean      median       sum count                mean   \n",
      "0       0       2.526142e+06   2526141.5   5052283     2        5.942943e+06   \n",
      "1       1       1.633413e+05     43754.0   4410216    27        7.548637e+05   \n",
      "2       2       1.226540e+07  12265403.0  12265403     1        1.278610e+06   \n",
      "\n",
      "                            \n",
      "       median          sum  \n",
      "0  5942943.48  11885886.96  \n",
      "1   360395.29  20381321.20  \n",
      "2  1278610.47   1278610.47  \n"
     ]
    }
   ],
   "source": [
    "# Creating a DataFrame with the data\n",
    "data = {\n",
    "    'State': ['CA', 'FL', 'AL', 'WA', 'VA', 'UT', 'TN', 'SC', 'PA', 'OK', 'OH', 'NV', 'NM', 'NC', 'MT', 'MS', 'MO', 'MN', 'MD', 'LA', 'IN', 'ID', 'GA', 'DE', 'CO', 'AZ', 'AR', 'WI', 'WV', 'TX'],\n",
    "    'Total_Premiums_mak': [266489, 4785794, 257816, 308209, 238176, 172063, 37559, 201980, 4499, 34589, 98627, 72209, 43754, 1652236, 2415, 487838, 236867, 33920, 51925, 40140, 6299, 3630, 239041, 19371, 40537, 103800, 13811, 3057, 5848, 12265403],\n",
    "    'Total_Premiums_cent': [7346257.04, 4539629.92, 1238891.75, 2541037.03, 1723663.70, 54402.60, 544174.06, 117243.94, 689024.05, 352578.99, 1103586.83, 29441.64, 727536.03, 177802.75, 159020.51, 71439.83, 1173813.49, 360395.29, 2328199.81, 2024420.85, 754111.88, 226960.03, 148680.84, 2864.88, 50544.86, 306506.44, 961754.57, 2350503.37, 162721.18, 1278610.47],\n",
    "    'Cluster': [0, 0, 1, 1, 1, 1, 1, 1, 1, 1, 1, 1, 1, 1, 1, 1, 1, 1, 1, 1, 1, 1, 1, 1, 1, 1, 1, 1, 1, 2]\n",
    "}\n",
    "df = pd.DataFrame(data)\n",
    "\n",
    "# Group by Cluster and calculate statistics\n",
    "cluster_summary = df.groupby('Cluster').agg({\n",
    "    'Total_Premiums_mak': ['mean', 'median', 'sum', 'count'],\n",
    "    'Total_Premiums_cent': ['mean', 'median', 'sum']\n",
    "}).reset_index()\n",
    "\n",
    "print(cluster_summary)\n"
   ]
  },
  {
   "cell_type": "markdown",
   "metadata": {},
   "source": [
    "Cluster Analysis Summary\n",
    "Cluster 0\n",
    "\n",
    "    States: 2\n",
    "    Mean Premiums (mak): Approximately $2.53 million\n",
    "    Median Premiums (mak): Approximately $2.53 million\n",
    "    Total Premiums (mak): Approximately $5.05 million\n",
    "    Mean Premiums (cent): Approximately $5.94 million\n",
    "    Median Premiums (cent): Approximately $5.94 million\n",
    "    Total Premiums (cent): Approximately $11.89 million\n",
    "\n",
    "Insights: Cluster 0 features states with very high average and median premiums from both datasets. The values are comparatively large, indicating that these states could be major markets with significant insurance activity or premiums volume.\n",
    "Cluster 1\n",
    "\n",
    "    States: 27\n",
    "    Mean Premiums (mak): Approximately $163,341\n",
    "    Median Premiums (mak): $43,754\n",
    "    Total Premiums (mak): Approximately $4.41 million\n",
    "    Mean Premiums (cent): Approximately $754,863\n",
    "    Median Premiums (cent): $360,395\n",
    "    Total Premiums (cent): Approximately $20.38 million\n",
    "\n",
    "Insights: This is the largest cluster by the number of states, featuring relatively lower mean and median premiums compared to Cluster 0. The premiums from df_cent are notably higher on average than those from df_mak, suggesting these might include states with lower direct premiums but higher associated costs or claims.\n",
    "Cluster 2\n",
    "\n",
    "    States: 1\n",
    "    Mean Premiums (mak): Approximately $12.27 million\n",
    "    Median Premiums (mak): $12.27 million\n",
    "    Total Premiums (mak): $12.27 million\n",
    "    Mean Premiums (cent): Approximately $1.28 million\n",
    "    Median Premiums (cent): $1.28 million\n",
    "    Total Premiums (cent): $1.28 million\n",
    "\n",
    "Insights: This cluster includes only one state but shows a very high total in df_mak premiums, massively outstripping the premiums recorded in df_cent. This suggests a unique condition where one type of premium or market activity is very dominant.\n",
    "Strategic Considerations\n",
    "\n",
    "Based on this cluster analysis, you might consider the following strategic actions:\n",
    "\n",
    "    Cluster 0: Focus on retention and enhanced services as these are likely mature markets with significant investment and interest.\n",
    "    Cluster 1: Investigate the reasons behind lower premiums in df_mak and higher costs or claims in df_cent. There might be opportunities for improving efficiency or adjusting pricing models.\n",
    "    Cluster 2: Due to its unique profile, further detailed analysis is necessary to understand why such a disparity exists between the two premium types. This state could be a key driver of specific business lines or products.\n",
    "\n"
   ]
  },
  {
   "cell_type": "markdown",
   "metadata": {},
   "source": [
    "Performing seaonality analysis:\n"
   ]
  },
  {
   "cell_type": "code",
   "execution_count": 88,
   "metadata": {},
   "outputs": [],
   "source": [
    "# Conversion to datetime format \n",
    "df_mak['ActivatedAt'] = pd.to_datetime(df_mak['ActivatedAt'])\n",
    "df_cent['EffectiveDate'] = pd.to_datetime(df_cent['EffectiveDate'])"
   ]
  },
  {
   "cell_type": "code",
   "execution_count": 89,
   "metadata": {},
   "outputs": [],
   "source": [
    "# Extract year and month for grouping\n",
    "df_mak['Month'] = df_mak['ActivatedAt'].dt.month\n",
    "df_cent['Month'] = df_cent['EffectiveDate'].dt.month\n"
   ]
  },
  {
   "cell_type": "code",
   "execution_count": 90,
   "metadata": {},
   "outputs": [],
   "source": [
    "# Aggregate Premiums by month in df_mak\n",
    "monthly_premiums_mak = df_mak.groupby('Month')['Premium'].sum().reset_index()\n",
    "monthly_premiums_mak.columns = ['Month', 'Total_Premiums_mak']\n",
    "\n",
    "# Aggregate Contract Costs by month in df_cent\n",
    "monthly_contract_costs_cent = df_cent.groupby('Month')['ContractCostAmount'].sum().reset_index()\n",
    "monthly_contract_costs_cent.columns = ['Month', 'Total_ContractCostAmount']\n",
    "\n"
   ]
  },
  {
   "cell_type": "code",
   "execution_count": 91,
   "metadata": {},
   "outputs": [],
   "source": [
    "import calendar\n",
    "\n",
    "# Function to convert month number to name\n",
    "monthly_premiums_mak['Month'] = monthly_premiums_mak['Month'].apply(lambda x: calendar.month_name[x])\n",
    "monthly_contract_costs_cent['Month'] = monthly_contract_costs_cent['Month'].apply(lambda x: calendar.month_name[x])\n"
   ]
  },
  {
   "cell_type": "code",
   "execution_count": 92,
   "metadata": {},
   "outputs": [
    {
     "name": "stdout",
     "output_type": "stream",
     "text": [
      "Monthly Premiums from df_mak:\n",
      "        Month  Total_Premiums_mak\n",
      "0     January             2394129\n",
      "1    February             1803856\n",
      "2       March             1980847\n",
      "3       April             1387377\n",
      "4         May             1209458\n",
      "5        June             1414624\n",
      "6        July              931382\n",
      "7      August              986629\n",
      "8   September             2525046\n",
      "9     October             2466680\n",
      "10   November             2397812\n",
      "11   December             2230062\n",
      "\n",
      "Monthly Contract Costs from df_cent:\n",
      "        Month  Total_ContractCostAmount\n",
      "0     January                3247867.34\n",
      "1    February                3251578.32\n",
      "2       March                3845634.48\n",
      "3       April                3581460.88\n",
      "4         May                3956676.09\n",
      "5        June                4244025.19\n",
      "6        July                4497406.13\n",
      "7      August                4256005.98\n",
      "8   September                2938492.57\n",
      "9     October                2725997.67\n",
      "10   November                3031458.36\n",
      "11   December                2828058.42\n"
     ]
    }
   ],
   "source": [
    "# Display monthly premiums for df_mak\n",
    "print(\"Monthly Premiums from df_mak:\")\n",
    "print(monthly_premiums_mak)\n",
    "\n",
    "# Display monthly contract costs for df_cent\n",
    "print(\"\\nMonthly Contract Costs from df_cent:\")\n",
    "print(monthly_contract_costs_cent)\n"
   ]
  },
  {
   "cell_type": "code",
   "execution_count": 93,
   "metadata": {},
   "outputs": [
    {
     "name": "stdout",
     "output_type": "stream",
     "text": [
      "\n",
      "Combined Monthly Data:\n",
      "        Month  Total_Premiums_mak  Total_ContractCostAmount\n",
      "3       April             1387377                3581460.88\n",
      "7      August              986629                4256005.98\n",
      "11   December             2230062                2828058.42\n",
      "1    February             1803856                3251578.32\n",
      "0     January             2394129                3247867.34\n",
      "6        July              931382                4497406.13\n",
      "5        June             1414624                4244025.19\n",
      "2       March             1980847                3845634.48\n",
      "4         May             1209458                3956676.09\n",
      "10   November             2397812                3031458.36\n",
      "9     October             2466680                2725997.67\n",
      "8   September             2525046                2938492.57\n"
     ]
    }
   ],
   "source": [
    "# Merge the two datasets on 'Month'\n",
    "combined_monthly_data = pd.merge(monthly_premiums_mak, monthly_contract_costs_cent, on='Month', how='outer')\n",
    "print(\"\\nCombined Monthly Data:\")\n",
    "print(combined_monthly_data.sort_values('Month'))\n"
   ]
  },
  {
   "cell_type": "code",
   "execution_count": 94,
   "metadata": {},
   "outputs": [],
   "source": [
    "# Add a new column 'Total_Premiums_and_Contracts' which is the sum of premiums and contract costs\n",
    "combined_monthly_data['Total_Premiums_and_Contracts'] = combined_monthly_data['Total_Premiums_mak'] + combined_monthly_data['Total_ContractCostAmount']\n"
   ]
  },
  {
   "cell_type": "code",
   "execution_count": 95,
   "metadata": {},
   "outputs": [
    {
     "data": {
      "text/html": [
       "<div>\n",
       "<style scoped>\n",
       "    .dataframe tbody tr th:only-of-type {\n",
       "        vertical-align: middle;\n",
       "    }\n",
       "\n",
       "    .dataframe tbody tr th {\n",
       "        vertical-align: top;\n",
       "    }\n",
       "\n",
       "    .dataframe thead th {\n",
       "        text-align: right;\n",
       "    }\n",
       "</style>\n",
       "<table border=\"1\" class=\"dataframe\">\n",
       "  <thead>\n",
       "    <tr style=\"text-align: right;\">\n",
       "      <th></th>\n",
       "      <th>Month</th>\n",
       "      <th>Total_Premiums_mak</th>\n",
       "      <th>Total_ContractCostAmount</th>\n",
       "      <th>Total_Premiums_and_Contracts</th>\n",
       "    </tr>\n",
       "  </thead>\n",
       "  <tbody>\n",
       "    <tr>\n",
       "      <th>0</th>\n",
       "      <td>January</td>\n",
       "      <td>2394129</td>\n",
       "      <td>3247867.34</td>\n",
       "      <td>5641996.34</td>\n",
       "    </tr>\n",
       "    <tr>\n",
       "      <th>1</th>\n",
       "      <td>February</td>\n",
       "      <td>1803856</td>\n",
       "      <td>3251578.32</td>\n",
       "      <td>5055434.32</td>\n",
       "    </tr>\n",
       "    <tr>\n",
       "      <th>2</th>\n",
       "      <td>March</td>\n",
       "      <td>1980847</td>\n",
       "      <td>3845634.48</td>\n",
       "      <td>5826481.48</td>\n",
       "    </tr>\n",
       "    <tr>\n",
       "      <th>3</th>\n",
       "      <td>April</td>\n",
       "      <td>1387377</td>\n",
       "      <td>3581460.88</td>\n",
       "      <td>4968837.88</td>\n",
       "    </tr>\n",
       "    <tr>\n",
       "      <th>4</th>\n",
       "      <td>May</td>\n",
       "      <td>1209458</td>\n",
       "      <td>3956676.09</td>\n",
       "      <td>5166134.09</td>\n",
       "    </tr>\n",
       "  </tbody>\n",
       "</table>\n",
       "</div>"
      ],
      "text/plain": [
       "      Month  Total_Premiums_mak  Total_ContractCostAmount  \\\n",
       "0   January             2394129                3247867.34   \n",
       "1  February             1803856                3251578.32   \n",
       "2     March             1980847                3845634.48   \n",
       "3     April             1387377                3581460.88   \n",
       "4       May             1209458                3956676.09   \n",
       "\n",
       "   Total_Premiums_and_Contracts  \n",
       "0                    5641996.34  \n",
       "1                    5055434.32  \n",
       "2                    5826481.48  \n",
       "3                    4968837.88  \n",
       "4                    5166134.09  "
      ]
     },
     "execution_count": 95,
     "metadata": {},
     "output_type": "execute_result"
    }
   ],
   "source": [
    "combined_monthly_data.head()"
   ]
  },
  {
   "cell_type": "code",
   "execution_count": 96,
   "metadata": {},
   "outputs": [
    {
     "data": {
      "image/png": "[encoded data removed]",
      "text/plain": [
       "<Figure size 864x432 with 1 Axes>"
      ]
     },
     "metadata": {
      "needs_background": "light"
     },
     "output_type": "display_data"
    }
   ],
   "source": [
    "# Set the size and style of the plot\n",
    "plt.figure(figsize=(12, 6))\n",
    "sns.set_style(\"whitegrid\")\n",
    "\n",
    "# Create a bar chart for the combined totals\n",
    "sns.barplot(data=combined_monthly_data, x='Month', y='Total_Premiums_and_Contracts', color='green')\n",
    "plt.title('Total Premiums and Contract Costs Combined by Month')\n",
    "plt.xlabel('Month')\n",
    "plt.ylabel('Total Amount')\n",
    "plt.xticks(rotation=45)  # Rotate the labels for better readability\n",
    "plt.show()\n"
   ]
  },
  {
   "cell_type": "markdown",
   "metadata": {},
   "source": [
    "Graph shows that there is not much seasonality when viewing premiums as a whole by calenadar month. "
   ]
  },
  {
   "cell_type": "markdown",
   "metadata": {},
   "source": [
    "To predict warranty sales in the df_cent dataset based on a synergy with the df_mak dataset premiums, where the premium data could serve as a proxy for market activity or potential sales opportunities, you would set up a predictive model. This model could leverage historical data to identify patterns and project future warranty sales. Below, I outline a structured approach to building this predictive model:"
   ]
  },
  {
   "cell_type": "code",
   "execution_count": 97,
   "metadata": {},
   "outputs": [],
   "source": [
    "from sklearn.model_selection import train_test_split\n",
    "from sklearn.linear_model import LinearRegression\n",
    "from sklearn.metrics import mean_squared_error, r2_score\n",
    "from sklearn.preprocessing import StandardScaler\n",
    "\n",
    "# Preparing features and target\n",
    "X = combined_monthly_data[['Total_Premiums_mak']]  # Feature matrix\n",
    "y = combined_monthly_data['Total_ContractCostAmount']  # Target variable\n",
    "\n",
    "# Optionally scale features\n",
    "scaler = StandardScaler()\n",
    "X_scaled = scaler.fit_transform(X)\n",
    "\n",
    "# Splitting data into training and test sets\n",
    "X_train, X_test, y_train, y_test = train_test_split(X_scaled, y, test_size=0.2, random_state=42)\n"
   ]
  },
  {
   "cell_type": "code",
   "execution_count": 98,
   "metadata": {},
   "outputs": [
    {
     "data": {
      "text/html": [
       "<style>#sk-container-id-2 {color: black;background-color: white;}#sk-container-id-2 pre{padding: 0;}#sk-container-id-2 div.sk-toggleable {background-color: white;}#sk-container-id-2 label.sk-toggleable__label {cursor: pointer;display: block;width: 100%;margin-bottom: 0;padding: 0.3em;box-sizing: border-box;text-align: center;}#sk-container-id-2 label.sk-toggleable__label-arrow:before {content: \"▸\";float: left;margin-right: 0.25em;color: #696969;}#sk-container-id-2 label.sk-toggleable__label-arrow:hover:before {color: black;}#sk-container-id-2 div.sk-estimator:hover label.sk-toggleable__label-arrow:before {color: black;}#sk-container-id-2 div.sk-toggleable__content {max-height: 0;max-width: 0;overflow: hidden;text-align: left;background-color: #f0f8ff;}#sk-container-id-2 div.sk-toggleable__content pre {margin: 0.2em;color: black;border-radius: 0.25em;background-color: #f0f8ff;}#sk-container-id-2 input.sk-toggleable__control:checked~div.sk-toggleable__content {max-height: 200px;max-width: 100%;overflow: auto;}#sk-container-id-2 input.sk-toggleable__control:checked~label.sk-toggleable__label-arrow:before {content: \"▾\";}#sk-container-id-2 div.sk-estimator input.sk-toggleable__control:checked~label.sk-toggleable__label {background-color: #d4ebff;}#sk-container-id-2 div.sk-label input.sk-toggleable__control:checked~label.sk-toggleable__label {background-color: #d4ebff;}#sk-container-id-2 input.sk-hidden--visually {border: 0;clip: rect(1px 1px 1px 1px);clip: rect(1px, 1px, 1px, 1px);height: 1px;margin: -1px;overflow: hidden;padding: 0;position: absolute;width: 1px;}#sk-container-id-2 div.sk-estimator {font-family: monospace;background-color: #f0f8ff;border: 1px dotted black;border-radius: 0.25em;box-sizing: border-box;margin-bottom: 0.5em;}#sk-container-id-2 div.sk-estimator:hover {background-color: #d4ebff;}#sk-container-id-2 div.sk-parallel-item::after {content: \"\";width: 100%;border-bottom: 1px solid gray;flex-grow: 1;}#sk-container-id-2 div.sk-label:hover label.sk-toggleable__label {background-color: #d4ebff;}#sk-container-id-2 div.sk-serial::before {content: \"\";position: absolute;border-left: 1px solid gray;box-sizing: border-box;top: 0;bottom: 0;left: 50%;z-index: 0;}#sk-container-id-2 div.sk-serial {display: flex;flex-direction: column;align-items: center;background-color: white;padding-right: 0.2em;padding-left: 0.2em;position: relative;}#sk-container-id-2 div.sk-item {position: relative;z-index: 1;}#sk-container-id-2 div.sk-parallel {display: flex;align-items: stretch;justify-content: center;background-color: white;position: relative;}#sk-container-id-2 div.sk-item::before, #sk-container-id-2 div.sk-parallel-item::before {content: \"\";position: absolute;border-left: 1px solid gray;box-sizing: border-box;top: 0;bottom: 0;left: 50%;z-index: -1;}#sk-container-id-2 div.sk-parallel-item {display: flex;flex-direction: column;z-index: 1;position: relative;background-color: white;}#sk-container-id-2 div.sk-parallel-item:first-child::after {align-self: flex-end;width: 50%;}#sk-container-id-2 div.sk-parallel-item:last-child::after {align-self: flex-start;width: 50%;}#sk-container-id-2 div.sk-parallel-item:only-child::after {width: 0;}#sk-container-id-2 div.sk-dashed-wrapped {border: 1px dashed gray;margin: 0 0.4em 0.5em 0.4em;box-sizing: border-box;padding-bottom: 0.4em;background-color: white;}#sk-container-id-2 div.sk-label label {font-family: monospace;font-weight: bold;display: inline-block;line-height: 1.2em;}#sk-container-id-2 div.sk-label-container {text-align: center;}#sk-container-id-2 div.sk-container {/* jupyter's `normalize.less` sets `[hidden] { display: none; }` but bootstrap.min.css set `[hidden] { display: none !important; }` so we also need the `!important` here to be able to override the default hidden behavior on the sphinx rendered scikit-learn.org. See: https://github.com/scikit-learn/scikit-learn/issues/21755 */display: inline-block !important;position: relative;}#sk-container-id-2 div.sk-text-repr-fallback {display: none;}</style><div id=\"sk-container-id-2\" class=\"sk-top-container\"><div class=\"sk-text-repr-fallback\"><pre>LinearRegression()</pre><b>In a Jupyter environment, please rerun this cell to show the HTML representation or trust the notebook. <br />On GitHub, the HTML representation is unable to render, please try loading this page with nbviewer.org.</b></div><div class=\"sk-container\" hidden><div class=\"sk-item\"><div class=\"sk-estimator sk-toggleable\"><input class=\"sk-toggleable__control sk-hidden--visually\" id=\"sk-estimator-id-2\" type=\"checkbox\" checked><label for=\"sk-estimator-id-2\" class=\"sk-toggleable__label sk-toggleable__label-arrow\">LinearRegression</label><div class=\"sk-toggleable__content\"><pre>LinearRegression()</pre></div></div></div></div></div>"
      ],
      "text/plain": [
       "LinearRegression()"
      ]
     },
     "execution_count": 98,
     "metadata": {},
     "output_type": "execute_result"
    }
   ],
   "source": [
    "# Initialize and train the Linear Regression model\n",
    "model = LinearRegression()\n",
    "model.fit(X_train, y_train)\n"
   ]
  },
  {
   "cell_type": "code",
   "execution_count": 99,
   "metadata": {},
   "outputs": [
    {
     "name": "stdout",
     "output_type": "stream",
     "text": [
      "RMSE: 192693.67075581572\n",
      "R²: 0.18984687848028303\n"
     ]
    }
   ],
   "source": [
    "# Making predictions on the test set\n",
    "y_pred = model.predict(X_test)\n",
    "\n",
    "# Calculating performance metrics\n",
    "mse = mean_squared_error(y_test, y_pred)\n",
    "rmse = mse ** 0.5\n",
    "r2 = r2_score(y_test, y_pred)\n",
    "\n",
    "print(f\"RMSE: {rmse}\")\n",
    "print(f\"R²: {r2}\")\n"
   ]
  },
  {
   "cell_type": "markdown",
   "metadata": {},
   "source": [
    "RMSE: 192693.67075581572\n",
    "\n",
    "    Magnitude: This RMSE value is quite high, indicating that on average, the model's predictions are about 192,693 units away from the actual contract cost amounts. Whether this is acceptable depends on the typical range or scale of the contract cost amounts in your dataset. If the typical contract costs are significantly higher than the RMSE (e.g., in the millions), this might be relatively minor. However, if they are closer to or lower than this RMSE value, it suggests that the model predictions might not be very accurate.\n",
    "\n",
    "R²: 0.18984687848028303\n",
    "\n",
    "    Explanation of Variance: The R² value is quite low, indicating that only about 19% of the variance in the contract costs is explained by the premiums. This suggests that there are other factors not captured by the model that are influencing the contract costs significantly."
   ]
  },
  {
   "cell_type": "code",
   "execution_count": 100,
   "metadata": {},
   "outputs": [
    {
     "name": "stdout",
     "output_type": "stream",
     "text": [
      "Coefficient for Total Premiums: -540484.7328382615\n",
      "Intercept: 3520569.7262036754\n"
     ]
    }
   ],
   "source": [
    "# Displaying the coefficient and intercept\n",
    "coefficient = model.coef_[0]\n",
    "intercept = model.intercept_\n",
    "\n",
    "print(f\"Coefficient for Total Premiums: {coefficient}\")\n",
    "print(f\"Intercept: {intercept}\")\n"
   ]
  },
  {
   "cell_type": "markdown",
   "metadata": {},
   "source": [
    "Coefficient Interpretation\n",
    "\n",
    "    Coefficient for Total Premiums: -540484.7328382615\n",
    "        This coefficient suggests that for each unit increase in Total_Premiums_mak, the Total_ContractCostAmount decreases by approximately 540,484. This negative relationship is quite significant and implies that higher premiums are associated with lower contract costs.\n",
    "        The interpretation of this negative relationship could be counterintuitive unless some factors are inversely related within the context of your specific business model. For example, it might indicate that higher premiums deter warranty sales or that in periods or regions with higher premiums, costs associated with contracts are lower due to less frequent claims or better risk management.\n",
    "\n",
    "    Intercept: 3520569.7262036754\n",
    "        The intercept of about 3,520,570 represents the estimated Total_ContractCostAmount when Total_Premiums_mak is zero. This value acts as the baseline contract cost amount in the absence of premiums from the df_mak dataset."
   ]
  },
  {
   "cell_type": "code",
   "execution_count": 101,
   "metadata": {},
   "outputs": [
    {
     "data": {
      "image/png": "[encoded data removed]",
      "text/plain": [
       "<Figure size 720x432 with 1 Axes>"
      ]
     },
     "metadata": {},
     "output_type": "display_data"
    }
   ],
   "source": [
    "# Plotting Actual vs. Predicted values\n",
    "plt.figure(figsize=(10, 6))\n",
    "plt.scatter(X_test, y_test, color='blue', label='Actual data')\n",
    "plt.plot(X_test, y_pred, color='red', label='Predicted data')\n",
    "plt.title('Actual vs. Predicted Contract Costs')\n",
    "plt.xlabel('Total Premiums (scaled)')\n",
    "plt.ylabel('Contract Costs')\n",
    "plt.legend()\n",
    "plt.show()\n"
   ]
  },
  {
   "cell_type": "markdown",
   "metadata": {},
   "source": [
    " Visualizing the relationship between predicted and actual values:"
   ]
  },
  {
   "cell_type": "code",
   "execution_count": 102,
   "metadata": {},
   "outputs": [
    {
     "data": {
      "image/png": "[encoded data removed]",
      "text/plain": [
       "<Figure size 720x432 with 1 Axes>"
      ]
     },
     "metadata": {},
     "output_type": "display_data"
    }
   ],
   "source": [
    "plt.figure(figsize=(10, 6))\n",
    "plt.scatter(y_test, y_pred, alpha=0.5)\n",
    "plt.plot([y.min(), y.max()], [y.min(), y.max()], 'k--', lw=4)  # Line showing perfect predictions\n",
    "plt.xlabel('Actual')\n",
    "plt.ylabel('Predicted')\n",
    "plt.title('Actual vs Predicted Values')\n",
    "plt.show()\n"
   ]
  },
  {
   "cell_type": "markdown",
   "metadata": {},
   "source": [
    "Given the results of the model evaluation, the premiums from the builder warranty sales are not usful when trying to predict the warranty sales for the customer appliances. \n",
    "\n",
    "Returning focus to the cluster anlaysis, given that the results of the evaluation, Cluster 0 and 2 show the most potential.  \n",
    "\n",
    "In a given \"What If\" scenario:  determine highest premium dealer from the customer appliance (cent) dataset by state and highest premium state from the builder data set. "
   ]
  },
  {
   "cell_type": "code",
   "execution_count": 103,
   "metadata": {},
   "outputs": [],
   "source": [
    "# Group by 'DealerName' and sum 'ContractCostAmount'\n",
    "dealer_totals = df_cent.groupby('DealerName')['ContractCostAmount'].sum().reset_index()\n"
   ]
  },
  {
   "cell_type": "code",
   "execution_count": 104,
   "metadata": {},
   "outputs": [],
   "source": [
    "# Sort the DataFrame by 'ContractCostAmount' in descending order\n",
    "dealer_totals_sorted = dealer_totals.sort_values(by='ContractCostAmount', ascending=False)\n"
   ]
  },
  {
   "cell_type": "code",
   "execution_count": 105,
   "metadata": {},
   "outputs": [
    {
     "name": "stdout",
     "output_type": "stream",
     "text": [
      "                        DealerName  ContractCostAmount\n",
      "9           AIRPORT HOME APPLIANCE          4810079.27\n",
      "77               BRAY & SCARFF INC          3324979.33\n",
      "249                   JUDD & BLACK          2191886.49\n",
      "179          GOOD DEALS APPLIANCES          1859787.95\n",
      "381                   ROSNER'S INC          1417878.77\n",
      "..                             ...                 ...\n",
      "394  SANDPOINT TV AND APPLIANCE CO               57.04\n",
      "449             THORPES APPLIANCES               57.04\n",
      "213         HINNS HOME FURNISHINGS               54.34\n",
      "145  EAST TEXAS MATTRESS WAREHOUSE               51.41\n",
      "310                     MERLINS TV               32.06\n",
      "\n",
      "[508 rows x 2 columns]\n"
     ]
    }
   ],
   "source": [
    "# Print the sorted DataFrame\n",
    "print(dealer_totals_sorted)\n"
   ]
  },
  {
   "cell_type": "code",
   "execution_count": 106,
   "metadata": {},
   "outputs": [],
   "source": [
    "# Group by 'DealerName' and 'StateCode' and sum 'ContractCostAmount'\n",
    "dealer_state_totals = df_cent.groupby(['DealerName', 'StateCode'])['ContractCostAmount'].sum().reset_index()\n"
   ]
  },
  {
   "cell_type": "code",
   "execution_count": 107,
   "metadata": {},
   "outputs": [],
   "source": [
    "# Sum contract costs by dealer only to identify the top 5 dealers\n",
    "dealer_totals = df_cent.groupby('DealerName')['ContractCostAmount'].sum().reset_index()\n",
    "top_5_dealers = dealer_totals.nlargest(5, 'ContractCostAmount')['DealerName']\n"
   ]
  },
  {
   "cell_type": "code",
   "execution_count": 108,
   "metadata": {},
   "outputs": [],
   "source": [
    "# Filter the dealer_state_totals to include only top 5 dealers\n",
    "top_dealers_by_state = dealer_state_totals[dealer_state_totals['DealerName'].isin(top_5_dealers)]\n",
    "\n",
    "# Aggregate the filtered data by State\n",
    "state_totals_top_dealers = top_dealers_by_state.groupby('StateCode')['ContractCostAmount'].sum().reset_index()\n"
   ]
  },
  {
   "cell_type": "code",
   "execution_count": 109,
   "metadata": {},
   "outputs": [],
   "source": [
    "# Sort the state totals from largest to smallest\n",
    "sorted_state_totals = state_totals_top_dealers.sort_values(by='ContractCostAmount', ascending=False)\n"
   ]
  },
  {
   "cell_type": "code",
   "execution_count": 110,
   "metadata": {},
   "outputs": [
    {
     "data": {
      "text/html": [
       "<div>\n",
       "<style scoped>\n",
       "    .dataframe tbody tr th:only-of-type {\n",
       "        vertical-align: middle;\n",
       "    }\n",
       "\n",
       "    .dataframe tbody tr th {\n",
       "        vertical-align: top;\n",
       "    }\n",
       "\n",
       "    .dataframe thead th {\n",
       "        text-align: right;\n",
       "    }\n",
       "</style>\n",
       "<table border=\"1\" class=\"dataframe\">\n",
       "  <thead>\n",
       "    <tr style=\"text-align: right;\">\n",
       "      <th></th>\n",
       "      <th>StateCode</th>\n",
       "      <th>ContractCostAmount</th>\n",
       "    </tr>\n",
       "  </thead>\n",
       "  <tbody>\n",
       "    <tr>\n",
       "      <th>3</th>\n",
       "      <td>CA</td>\n",
       "      <td>4800724.79</td>\n",
       "    </tr>\n",
       "    <tr>\n",
       "      <th>7</th>\n",
       "      <td>FL</td>\n",
       "      <td>3275556.65</td>\n",
       "    </tr>\n",
       "    <tr>\n",
       "      <th>32</th>\n",
       "      <td>WA</td>\n",
       "      <td>2191203.26</td>\n",
       "    </tr>\n",
       "    <tr>\n",
       "      <th>16</th>\n",
       "      <td>MD</td>\n",
       "      <td>1895951.95</td>\n",
       "    </tr>\n",
       "    <tr>\n",
       "      <th>31</th>\n",
       "      <td>VA</td>\n",
       "      <td>1169988.97</td>\n",
       "    </tr>\n",
       "  </tbody>\n",
       "</table>\n",
       "</div>"
      ],
      "text/plain": [
       "   StateCode  ContractCostAmount\n",
       "3         CA          4800724.79\n",
       "7         FL          3275556.65\n",
       "32        WA          2191203.26\n",
       "16        MD          1895951.95\n",
       "31        VA          1169988.97"
      ]
     },
     "execution_count": 110,
     "metadata": {},
     "output_type": "execute_result"
    }
   ],
   "source": [
    "# Print the sorted DataFrame\n",
    "sorted_state_totals.head(5)\n"
   ]
  },
  {
   "cell_type": "markdown",
   "metadata": {},
   "source": [
    "We know from the 2 datasets that the state of Florida is the synergistic state according to amount of premiums sold for both companies. "
   ]
  },
  {
   "cell_type": "code",
   "execution_count": 111,
   "metadata": {},
   "outputs": [],
   "source": [
    "# Filter for entries from Florida in both datasets\n",
    "df_mak_florida = df_mak[df_mak['StateId'] == 'FL']\n",
    "df_cent_florida = df_cent[df_cent['StateCode'] == 'FL']\n"
   ]
  },
  {
   "cell_type": "code",
   "execution_count": 112,
   "metadata": {},
   "outputs": [],
   "source": [
    "# Aggregate total premiums by builder in Florida from df_mak\n",
    "florida_builders = df_mak_florida.groupby('Company Name')['Premium'].sum().reset_index()\n",
    "\n",
    "# Aggregate total contract costs by dealer in Florida from df_cent\n",
    "florida_dealers = df_cent_florida.groupby('DealerName')['ContractCostAmount'].sum().reset_index()\n"
   ]
  },
  {
   "cell_type": "code",
   "execution_count": 113,
   "metadata": {},
   "outputs": [],
   "source": [
    "# Find the largest builder based on total premiums\n",
    "largest_builder = florida_builders.loc[florida_builders['Premium'].idxmax()]\n",
    "\n",
    "# Find the largest dealer based on total contract costs\n",
    "largest_dealer = florida_dealers.loc[florida_dealers['ContractCostAmount'].idxmax()]\n"
   ]
  },
  {
   "cell_type": "code",
   "execution_count": 114,
   "metadata": {},
   "outputs": [
    {
     "name": "stdout",
     "output_type": "stream",
     "text": [
      "Largest Builder in Florida based on Premiums:\n",
      "Company Name    Holiday Builders, Inc. \n",
      "Premium                          490456\n",
      "Name: 120, dtype: object\n",
      "\n",
      "Largest Dealer in Florida based on Contract Costs:\n",
      "DealerName            GOOD DEALS APPLIANCES\n",
      "ContractCostAmount               1857578.06\n",
      "Name: 5, dtype: object\n"
     ]
    }
   ],
   "source": [
    "# Print the largest builder and dealer\n",
    "print(\"Largest Builder in Florida based on Premiums:\")\n",
    "print(largest_builder)\n",
    "\n",
    "print(\"\\nLargest Dealer in Florida based on Contract Costs:\")\n",
    "print(largest_dealer)\n"
   ]
  },
  {
   "cell_type": "code",
   "execution_count": 115,
   "metadata": {},
   "outputs": [
    {
     "name": "stdout",
     "output_type": "stream",
     "text": [
      "Average Premium: 540.6161080838993\n"
     ]
    }
   ],
   "source": [
    "# Calculate the average of the Premium column\n",
    "average_premium = df_mak['Premium'].mean()\n",
    "print(\"Average Premium:\", average_premium)\n"
   ]
  },
  {
   "cell_type": "markdown",
   "metadata": {},
   "source": [
    "With the average premium of $540 we can assume that is a potential of 908 homes.  "
   ]
  },
  {
   "cell_type": "code",
   "execution_count": 116,
   "metadata": {},
   "outputs": [
    {
     "name": "stdout",
     "output_type": "stream",
     "text": [
      "Average Contract: 75.45823637541326\n"
     ]
    }
   ],
   "source": [
    "# Calculate the average of the Premium column\n",
    "average_premium = df_cent['ContractCostAmount'].mean()\n",
    "print(\"Average Contract:\", average_premium)"
   ]
  },
  {
   "cell_type": "markdown",
   "metadata": {},
   "source": [
    "If we apply the assumption of 908 homes at an average contract price of $75*3 appliances = $ 204,300 in net contract premium increase if a relationship can be made between the builder and the appliance sales within the homes built. "
   ]
  },
  {
   "cell_type": "markdown",
   "metadata": {},
   "source": [
    "1. Targeted Marketing and Sales Efforts\n",
    "\n",
    "    Holiday Builders, Inc.: Develop customized marketing strategies or incentive plans aimed at increasing the volume of business with this builder. Consider tailoring products or services to better meet their needs or offering bulk discounts to secure more premium volume.\n",
    "    GOOD DEALS APPLIANCES: Explore partnerships or exclusive deals that might be attractive to this dealer, given their significant role in the market. This could involve specialized warranty plans or service agreements that cater specifically to their customer base.\n",
    "\n",
    "2. Relationship Building\n",
    "\n",
    "    Strengthen Relationships: Engage directly with the decision-makers at Holiday Builders, Inc., and GOOD DEALS APPLIANCES to understand their needs, expectations, and how your offerings can better serve their requirements. Strengthening these relationships can lead to more favorable terms and increased business.\n",
    "    Customized Offers: Based on the insights gained from interactions, develop customized offers or services that align with their current demands and future needs.\n",
    "\n",
    "3. Market Analysis\n",
    "\n",
    "    Competitor Analysis: Investigate what competitors might be offering these companies and devise strategies to offer superior value.\n",
    "    Market Share and Penetration: Assess the market share of these entities in their respective sectors and explore ways to enhance it through joint ventures or co-marketing initiatives.\n",
    "\n",
    "4. Operational Adjustments\n",
    "\n",
    "    Logistics and Supply Chain: For GOOD DEALS APPLIANCES, examine the logistics and supply chain efficiency to ensure that service delivery and product availability align with their business scale and demands.\n",
    "    Feedback and Product Development: Utilize feedback from these major players to adjust product or service offerings, which could lead to better market fit and customer satisfaction.\n",
    "\n",
    "5. Financial Planning\n",
    "\n",
    "    Investment and Budgeting: Allocate marketing and sales budgets effectively to focus more intensively on these high-value customers. Consider investments in dedicated support teams or account managers to handle their needs.\n",
    "    Risk Management: Understand the risks associated with relying significantly on major players and consider strategies to diversify your client base to manage these risks effectively."
   ]
  }
 ],
 "metadata": {
  "kernelspec": {
   "display_name": "base",
   "language": "python",
   "name": "python3"
  },
  "language_info": {
   "codemirror_mode": {
    "name": "ipython",
    "version": 3
   },
   "file_extension": ".py",
   "mimetype": "text/x-python",
   "name": "python",
   "nbconvert_exporter": "python",
   "pygments_lexer": "ipython3",
   "version": "3.8.8"
  }
 },
 "nbformat": 4,
 "nbformat_minor": 2
}
